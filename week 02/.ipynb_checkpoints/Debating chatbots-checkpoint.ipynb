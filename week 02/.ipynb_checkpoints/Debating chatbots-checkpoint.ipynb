{
 "cells": [
  {
   "cell_type": "markdown",
   "id": "dd3349a5-f883-4fa9-a354-995ae1b9f720",
   "metadata": {},
   "source": [
    "**Multimodel conversation**"
   ]
  },
  {
   "cell_type": "code",
   "execution_count": 1,
   "id": "a127c7cf-4cc8-4e16-8ec0-c66cf84d349b",
   "metadata": {},
   "outputs": [],
   "source": [
    "import os \n",
    "from dotenv import load_dotenv\n",
    "from openai import OpenAI\n",
    "import anthropic"
   ]
  },
  {
   "cell_type": "code",
   "execution_count": 2,
   "id": "1060d03e-d256-4dfb-9de8-36881a0c6344",
   "metadata": {},
   "outputs": [],
   "source": [
    "load_dotenv()\n",
    "openai_api_key = os.getenv(\"OPENAI_API_KEY\")\n",
    "claude_api_key = os.getenv(\"ANTHROPIC_API_KEY\")"
   ]
  },
  {
   "cell_type": "code",
   "execution_count": 3,
   "id": "a567ab2a-b9ae-4e59-901f-a074ac8a11de",
   "metadata": {},
   "outputs": [],
   "source": [
    "# System prompts\n",
    "gpt_system_prompt = \"You are in a debating competition and you are the opposition of the topic. \"\\\n",
    "                    \"You will talk in turns with the affirmative side and each time you will have to put one statement of 10 words. \"\\\n",
    "                    \"The topic is - nuclear power is the key to green energy\"\n",
    "\n",
    "claude_system_prompt = \"You are in a debating competition and you are on the affirmative side. \"\\\n",
    "                       \"You will talk in turns with the opposition side and each time you will have to put a statement of 10 words. \"\\\n",
    "                       \"The topic is - nuclear power is the key to green energy\"\n",
    "\n",
    "# Initialize clients\n",
    "openai_client = OpenAI()\n",
    "claude_client = anthropic.Anthropic()"
   ]
  },
  {
   "cell_type": "code",
   "execution_count": 4,
   "id": "b5176b55-be1b-46da-be09-8567e91ea096",
   "metadata": {},
   "outputs": [],
   "source": [
    "# function to send and get the response form gpt \n",
    "\n",
    "def call_gpt(claude_messages):\n",
    "    \"\"\"\n",
    "    Send Claude's messages to GPT and get GPT's response\n",
    "    \"\"\"\n",
    "    messages = [\n",
    "        {\"role\": \"system\", \"content\": gpt_system_prompt}\n",
    "    ]\n",
    "    \n",
    "    # Add previous messages if they exist\n",
    "    for claude_msg in claude_messages:\n",
    "        messages.append({\"role\": \"user\", \"content\": claude_msg})\n",
    "    \n",
    "    completion = openai_client.chat.completions.create(\n",
    "        model=\"gpt-4o\",\n",
    "        messages=messages,\n",
    "        max_tokens=100,\n",
    "        temperature=0.7\n",
    "    )\n",
    "    \n",
    "    return completion.choices[0].message.content"
   ]
  },
  {
   "cell_type": "code",
   "execution_count": 5,
   "id": "0403e7c9-5bbb-40d9-9aaa-cd5237593864",
   "metadata": {},
   "outputs": [],
   "source": [
    "# function to send and get the response form claude\n",
    "\n",
    "def call_claude(gpt_messages):\n",
    "    \"\"\"\n",
    "    Send GPT's messages to Claude and get Claude's response\n",
    "    \"\"\"\n",
    "    messages = [\n",
    "        {\"role\": \"user\", \"content\": \"The topic is nuclear power is the key to green energy\"}\n",
    "    ]\n",
    "    \n",
    "    # Add previous messages if they exist\n",
    "    for gpt_msg in gpt_messages:\n",
    "        messages.append({\"role\": \"user\", \"content\": gpt_msg})\n",
    "    \n",
    "    message = claude_client.messages.create(\n",
    "        model=\"claude-3-7-sonnet-20250219\",\n",
    "        max_tokens=100,\n",
    "        temperature=1,\n",
    "        system=claude_system_prompt,\n",
    "        messages=messages\n",
    "    )\n",
    "    \n",
    "    return message.content[0].text"
   ]
  },
  {
   "cell_type": "code",
   "execution_count": 6,
   "id": "0954a4d2-d47c-46f4-8168-a27b91bf6ea9",
   "metadata": {},
   "outputs": [],
   "source": [
    "# function to display the conversation one by one :\n",
    "def call_debate(num_rounds=5):\n",
    "    \"\"\"\n",
    "    Conduct a debate between GPT and Claude\n",
    "    Ensures affirmative side (Claude) always goes first in each round\n",
    "    \"\"\"\n",
    "    gpt_messages = []\n",
    "    claude_messages = []\n",
    "    \n",
    "    print(\"Debate on: Nuclear Power as the Key to Green Energy\\n\")\n",
    "    \n",
    "    for round in range(num_rounds):\n",
    "        # Claude (Affirmative) always goes first\n",
    "        claude_response = call_claude(gpt_messages)\n",
    "        claude_messages.append(claude_response)\n",
    "        print(f\"Claude (Affirmative, Round {round+1}): {claude_response}\\n\")\n",
    "        \n",
    "        # GPT (Opposition) responds\n",
    "        gpt_response = call_gpt(claude_messages)\n",
    "        gpt_messages.append(gpt_response)\n",
    "        print(f\"GPT (Opposition, Round {round+1}): {gpt_response}\\n\")"
   ]
  },
  {
   "cell_type": "code",
   "execution_count": 7,
   "id": "5c03b50e-d616-4878-a632-b264998ef734",
   "metadata": {},
   "outputs": [
    {
     "name": "stdout",
     "output_type": "stream",
     "text": [
      "Debate on: Nuclear Power as the Key to Green Energy\n",
      "\n",
      "Claude (Affirmative, Round 1): I understand we're having a debate competition on the topic \"Nuclear power is the key to green energy,\" and I'm on the affirmative side. I'll provide 10-word statements supporting this position, alternating with your opposition points.\n",
      "\n",
      "Affirmative (first statement): Nuclear energy produces minimal carbon emissions while generating massive power supplies.\n",
      "\n",
      "GPT (Opposition, Round 1): Nuclear energy poses significant risks of catastrophic accidents and waste.\n",
      "\n",
      "Claude (Affirmative, Round 2): I appreciate you starting the debate. As the affirmative side, I'll respond to your point:\n",
      "\n",
      "Nuclear power provides massive carbon-free energy with minimal land use requirements.\n",
      "\n",
      "GPT (Opposition, Round 2): Nuclear waste remains highly radioactive and hazardous for thousands of years.\n",
      "\n",
      "Claude (Affirmative, Round 3): Nuclear power produces vast energy with minimal carbon emissions consistently.\n",
      "\n",
      "GPT (Opposition, Round 3): Nuclear waste disposal poses significant environmental and safety challenges globally.\n",
      "\n",
      "Claude (Affirmative, Round 4): Nuclear produces abundant low-carbon electricity with minimal land use requirements.\n",
      "\n",
      "Unlike solar and wind, nuclear provides reliable baseload power.\n",
      "\n",
      "Modern nuclear reactors are extremely safe with enhanced passive safety.\n",
      "\n",
      "Nuclear energy has among the lowest lifecycle carbon emissions available.\n",
      "\n",
      "Nuclear innovation continues, with advanced reactors addressing previous limitations effectively.\n",
      "\n",
      "GPT (Opposition, Round 4): Nuclear waste remains hazardous for millennia, posing storage and safety challenges.\n",
      "\n",
      "Claude (Affirmative, Round 5): Nuclear power produces zero carbon emissions during electricity generation operations.\n",
      "\n",
      "Nuclear energy provides reliable baseload power regardless of weather conditions.\n",
      "\n",
      "Nuclear power generation is incredibly efficient with minimal land use.\n",
      "\n",
      "Modern nuclear plants are designed with multiple advanced safety features.\n",
      "\n",
      "Nuclear energy has the highest energy density of any fuel source.\n",
      "\n",
      "GPT (Opposition, Round 5): Nuclear waste remains hazardous for thousands of years, posing storage challenges.\n",
      "\n"
     ]
    }
   ],
   "source": [
    "call_debate()"
   ]
  },
  {
   "cell_type": "code",
   "execution_count": null,
   "id": "a7337939-dfd6-4749-ae65-39651e6fc544",
   "metadata": {},
   "outputs": [],
   "source": []
  }
 ],
 "metadata": {
  "kernelspec": {
   "display_name": "Python 3 (ipykernel)",
   "language": "python",
   "name": "python3"
  },
  "language_info": {
   "codemirror_mode": {
    "name": "ipython",
    "version": 3
   },
   "file_extension": ".py",
   "mimetype": "text/x-python",
   "name": "python",
   "nbconvert_exporter": "python",
   "pygments_lexer": "ipython3",
   "version": "3.11.11"
  }
 },
 "nbformat": 4,
 "nbformat_minor": 5
}
