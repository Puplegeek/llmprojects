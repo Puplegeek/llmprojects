{
 "cells": [
  {
   "cell_type": "markdown",
   "id": "dd3349a5-f883-4fa9-a354-995ae1b9f720",
   "metadata": {},
   "source": [
    "**Multimodel conversation**"
   ]
  },
  {
   "cell_type": "code",
   "execution_count": 6,
   "id": "a127c7cf-4cc8-4e16-8ec0-c66cf84d349b",
   "metadata": {},
   "outputs": [],
   "source": [
    "import os \n",
    "from dotenv import load_dotenv\n",
    "from openai import OpenAI\n",
    "import anthropic"
   ]
  },
  {
   "cell_type": "code",
   "execution_count": 7,
   "id": "1060d03e-d256-4dfb-9de8-36881a0c6344",
   "metadata": {},
   "outputs": [],
   "source": [
    "load_dotenv()\n",
    "openai_api_key = os.getenv(\"OPENAI_API_KEY\")\n",
    "claude_api_key = os.getenv(\"ANTHROPIC_API_KEY\")"
   ]
  },
  {
   "cell_type": "code",
   "execution_count": 8,
   "id": "a567ab2a-b9ae-4e59-901f-a074ac8a11de",
   "metadata": {},
   "outputs": [],
   "source": [
    "gpt_system_prompt = \"You are in a debating competition and you are the opposition of any given topic. \\\n",
    "You will talk in turns with the affirmative side and each time you will have to put a statement of 50 words\"\n",
    "\n",
    "claude_system_prompt = \"You are in a debating competition and you are on the affirmative side. \\\n",
    "You will talk in turns with the opposition side and each time you will have to put a statement of 50 words\"\n",
    "\n",
    "topic = \"The topic is - nuclear power is the key to green energy\"\n",
    "\n",
    "gpt_messages = [\"\"]\n",
    "claude_messages = [\"\"]\n",
    "google_messages = [\"\"]"
   ]
  },
  {
   "cell_type": "code",
   "execution_count": 9,
   "id": "b5176b55-be1b-46da-be09-8567e91ea096",
   "metadata": {},
   "outputs": [
    {
     "data": {
      "text/plain": [
       "'While nuclear power is low in carbon emissions, it presents significant challenges such as radioactive waste management, high costs, and potential for catastrophic accidents. Renewable energy sources like solar and wind, which are increasingly cost-effective and safer, should be prioritized for a sustainable and green energy future.'"
      ]
     },
     "execution_count": 9,
     "metadata": {},
     "output_type": "execute_result"
    }
   ],
   "source": [
    "# function to send and get the response form gpt \n",
    "\n",
    "openai = OpenAI()\n",
    "\n",
    "def call_gpt():\n",
    "    messages = [{\"role\": \"system\", \"content\": gpt_system_prompt},\n",
    "               {\"role\": \"user\",\"content\": topic}]\n",
    "\n",
    "    \n",
    "    for gpt, claude in zip(gpt_messages, claude_messages):\n",
    "        messages.append({\"role\": \"assistant\", \"content\": gpt})\n",
    "        messages.append({\"role\": \"user\", \"content\": claude})\n",
    "    \n",
    "    completion = openai.chat.completions.create(\n",
    "        model=\"gpt-4o\",\n",
    "        messages=messages,\n",
    "        max_tokens=100,\n",
    "        temperature=0.7\n",
    "    )\n",
    "    \n",
    "    return completion.choices[0].message.content\n",
    "\n",
    "call_gpt()"
   ]
  },
  {
   "cell_type": "code",
   "execution_count": 11,
   "id": "0403e7c9-5bbb-40d9-9aaa-cd5237593864",
   "metadata": {},
   "outputs": [
    {
     "data": {
      "text/plain": [
       "'**First Affirmative (50 words)**\\n\\nNuclear power is our most viable path to a green energy future. It produces zero carbon emissions during operation, has the highest energy density, and provides reliable baseload power regardless of weather conditions. Unlike solar and wind, nuclear plants require minimal land use while delivering maximum energy output, making it environmentally superior.'"
      ]
     },
     "execution_count": 11,
     "metadata": {},
     "output_type": "execute_result"
    }
   ],
   "source": [
    "# function to send and get the response form claude\n",
    "\n",
    "claude = anthropic.Anthropic()\n",
    "\n",
    "def call_claude():\n",
    "    \n",
    "\n",
    "    message = claude.messages.create(\n",
    "        model=\"claude-3-7-sonnet-20250219\",\n",
    "        max_tokens=100,\n",
    "        temperature=1,\n",
    "        system=claude_system_prompt,\n",
    "        messages=[{\"role\": \"user\", \"content\": topic}]\n",
    "    )\n",
    "    \n",
    "    return message.content[0].text\n",
    "\n",
    "call_claude()"
   ]
  },
  {
   "cell_type": "code",
   "execution_count": null,
   "id": "0954a4d2-d47c-46f4-8168-a27b91bf6ea9",
   "metadata": {},
   "outputs": [],
   "source": [
    "# function to display the conversation one by one \n"
   ]
  },
  {
   "cell_type": "code",
   "execution_count": null,
   "id": "5c03b50e-d616-4878-a632-b264998ef734",
   "metadata": {},
   "outputs": [],
   "source": []
  }
 ],
 "metadata": {
  "kernelspec": {
   "display_name": "Python 3 (ipykernel)",
   "language": "python",
   "name": "python3"
  },
  "language_info": {
   "codemirror_mode": {
    "name": "ipython",
    "version": 3
   },
   "file_extension": ".py",
   "mimetype": "text/x-python",
   "name": "python",
   "nbconvert_exporter": "python",
   "pygments_lexer": "ipython3",
   "version": "3.11.11"
  }
 },
 "nbformat": 4,
 "nbformat_minor": 5
}
