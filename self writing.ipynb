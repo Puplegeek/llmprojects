{
 "cells": [
  {
   "cell_type": "code",
   "execution_count": 1,
   "id": "5f10ba9e-7edd-4060-90ec-d21cfe02e699",
   "metadata": {},
   "outputs": [],
   "source": [
    "import os \n",
    "import requests \n",
    "from dotenv import load_dotenv\n",
    "from bs4 import BeautifulSoup\n",
    "from IPython.display import Markdown, display \n",
    "from openai import OpenAI "
   ]
  },
  {
   "cell_type": "code",
   "execution_count": 2,
   "id": "862e59bf-ff9f-430b-b8ac-0a9f4e4ec260",
   "metadata": {},
   "outputs": [],
   "source": [
    "load_dotenv(override=True)\n",
    "api_key = \"OPENAI_API_KEY\"\n",
    "openai = OpenAI()"
   ]
  },
  {
   "cell_type": "code",
   "execution_count": 3,
   "id": "713ead07-5275-4767-bb6b-36e67d724729",
   "metadata": {},
   "outputs": [],
   "source": [
    "headers = {\n",
    "    \"User-Agent\": \"Mozilla/5.0 (Windows NT 10.0; Win64; x64) AppleWebKit/537.36 (KHTML, like Gecko) Chrome/117.0.0.0 Safari/537.36\"\n",
    "}\n",
    "\n",
    "class Website_scraper:\n",
    "    def __init__(self,url):\n",
    "        self.url = url\n",
    "        response = requests.get(url, headers = headers)\n",
    "        soup = BeautifulSoup(response.content,\"html.parser\")\n",
    "        self.title = soup.title.string if soup.text else \"No title found\"\n",
    "\n",
    "        for irrelevant in soup.body([\"script\",\"style\",\"img\",\"input\"]):\n",
    "            irrelevant.decompose()\n",
    "\n",
    "        self.text = soup.body.get_text(separator=\"\\n\", strip = True)\n",
    "        \n",
    "    "
   ]
  },
  {
   "cell_type": "code",
   "execution_count": 4,
   "id": "9ce39da2-0db5-4d27-a58f-1475329aa1a0",
   "metadata": {},
   "outputs": [],
   "source": [
    "system_prompt = \"You are an assistant that analyzes and find information from scraped webpages text\\\n",
    "the text from the webpage is scraped and given to you as prompt, it is important that you don't give any wrong information, if you can't find the information in the text say didn't find\\\n",
    "and provides a short summary, ignoring text that might be navigation related. \\\n",
    "Respond in markdown.\""
   ]
  },
  {
   "cell_type": "code",
   "execution_count": 5,
   "id": "bce57288-4714-4ce3-a704-d0980f038aed",
   "metadata": {},
   "outputs": [],
   "source": [
    "def user_prompt_for(website_scraper):\n",
    "    user_prompt = f\"this is the website title - \\n {website_scraper.title} \\n\"\n",
    "    user_prompt += f\"this is the scraped website text -\\n {website_scraper.text} \\n\"\n",
    "    user_prompt += \"\\n \\\n",
    "please provide important contact of this website in markdown.\\\n",
    "if it includes methos for contacting, then summarize these too.\\n\\n\"\n",
    "    return user_prompt"
   ]
  },
  {
   "cell_type": "code",
   "execution_count": 7,
   "id": "f85a9a33-c4f1-46bd-8e50-8f023e84d0ea",
   "metadata": {},
   "outputs": [],
   "source": [
    "# ed = Website_scraper(\"https://and-element.com/\")\n",
    "# print(ed.title)\n",
    "# print(ed.text)\n",
    "# print(user_prompt_for(ed))"
   ]
  },
  {
   "cell_type": "code",
   "execution_count": 13,
   "id": "d7c966e7-d04f-4abc-8b7e-e6021709c8d8",
   "metadata": {},
   "outputs": [],
   "source": [
    "def prompt_payload(website_scraper):\n",
    "    return [\n",
    "        {\"role\":\"system\",\"content\":system_prompt},\n",
    "        {\"role\":\"user\",\"content\":user_prompt_for(website_scraper)}\n",
    "    ]"
   ]
  },
  {
   "cell_type": "code",
   "execution_count": 15,
   "id": "a10b0c6b-2c9f-4ae6-b29f-d65e40ffce5c",
   "metadata": {},
   "outputs": [],
   "source": [
    "def gpt_response(url):\n",
    "    website_scraper = Website_scraper(url)\n",
    "    response = openai.chat.completions.create(\n",
    "        model = \"gpt-4o-mini\",\n",
    "        messages = prompt_payload(website_scraper)\n",
    "    )\n",
    "    return response.choices[0].message.content"
   ]
  },
  {
   "cell_type": "code",
   "execution_count": 18,
   "id": "acb07672-746a-48f1-afdb-4174274d50cd",
   "metadata": {},
   "outputs": [],
   "source": [
    "def display_gpt_response(url):\n",
    "    response = gpt_response(url)\n",
    "    display(Markdown(response))"
   ]
  },
  {
   "cell_type": "code",
   "execution_count": 19,
   "id": "83381a0c-b6d3-4614-b69c-10f6953304cc",
   "metadata": {},
   "outputs": [
    {
     "data": {
      "text/markdown": [
       "# Contact Information for &Element\n",
       "\n",
       "## Address\n",
       "&Element  \n",
       "S9, Innovation Centre  \n",
       "Boundary Road  \n",
       "Colchester  \n",
       "Essex, CO4 3ZQ\n",
       "\n",
       "## Phone\n",
       "01206 259355\n",
       "\n",
       "## Email\n",
       "[email protected]\n",
       "\n",
       "## Summary of Contact Methods\n",
       "- **Phone Consultation**: Available to call for direct inquiries.\n",
       "- **Free Review Consultation**: Offering a free review of your digital presence to understand issues and strategize for online success.\n",
       "- **Email**: Can contact via email for inquiries or consultations."
      ],
      "text/plain": [
       "<IPython.core.display.Markdown object>"
      ]
     },
     "metadata": {},
     "output_type": "display_data"
    }
   ],
   "source": [
    "display_gpt_response(\"https://and-element.com/\")"
   ]
  },
  {
   "cell_type": "code",
   "execution_count": null,
   "id": "ff8309cc-1cf3-4aca-b33f-7accd5f0989e",
   "metadata": {},
   "outputs": [],
   "source": []
  }
 ],
 "metadata": {
  "kernelspec": {
   "display_name": "Python 3 (ipykernel)",
   "language": "python",
   "name": "python3"
  },
  "language_info": {
   "codemirror_mode": {
    "name": "ipython",
    "version": 3
   },
   "file_extension": ".py",
   "mimetype": "text/x-python",
   "name": "python",
   "nbconvert_exporter": "python",
   "pygments_lexer": "ipython3",
   "version": "3.11.11"
  }
 },
 "nbformat": 4,
 "nbformat_minor": 5
}
