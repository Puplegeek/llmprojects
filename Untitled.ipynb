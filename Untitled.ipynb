{
 "cells": [
  {
   "cell_type": "code",
   "execution_count": 2,
   "id": "5f10ba9e-7edd-4060-90ec-d21cfe02e699",
   "metadata": {},
   "outputs": [],
   "source": [
    "import requests \n",
    "from bs4 import BeautifulSoup \n",
    "import re \n",
    " \n",
    "# URL of the webpage to scrape \n",
    "url = 'https://and-element.com/' \n",
    " \n",
    "# Send a GET request to the webpage \n",
    "response = requests.get(url) \n",
    " \n",
    "# Check if the request was successful \n",
    "if response.status_code == 200: \n",
    "    # Parse the HTML content \n",
    "    soup = BeautifulSoup(response.text, 'html.parser') \n",
    " \n",
    "    # Find all text on the page \n",
    "    text = soup.get_text() \n",
    " \n",
    "    # Use regex to find an email address \n",
    "    # This regex pattern will match most email formats \n",
    "    email_pattern = r'[a-zA-Z0-9._%+-]+@[a-zA-Z0-9.-]+\\.[a-zA-Z]{2,}' \n",
    "    emails = re.findall(email_pattern, text) \n",
    " \n",
    "    # Print found emails \n",
    "    for email in emails: \n",
    "        print(email) \n",
    "else: \n",
    "    print(f\"Failed to retrieve the webpage. Status code: {response.status_code}\") "
   ]
  },
  {
   "cell_type": "code",
   "execution_count": 3,
   "id": "d87b85b5-1f6f-4dbc-a090-7203095f7700",
   "metadata": {},
   "outputs": [
    {
     "ename": "NameError",
     "evalue": "name 'email' is not defined",
     "output_type": "error",
     "traceback": [
      "\u001b[0;31m---------------------------------------------------------------------------\u001b[0m",
      "\u001b[0;31mNameError\u001b[0m                                 Traceback (most recent call last)",
      "Cell \u001b[0;32mIn[3], line 1\u001b[0m\n\u001b[0;32m----> 1\u001b[0m \u001b[43memail\u001b[49m\n",
      "\u001b[0;31mNameError\u001b[0m: name 'email' is not defined"
     ]
    }
   ],
   "source": [
    "email"
   ]
  },
  {
   "cell_type": "code",
   "execution_count": null,
   "id": "f68ed1b8-707d-4f00-b43e-63f04b65b872",
   "metadata": {},
   "outputs": [],
   "source": []
  }
 ],
 "metadata": {
  "kernelspec": {
   "display_name": "Python 3 (ipykernel)",
   "language": "python",
   "name": "python3"
  },
  "language_info": {
   "codemirror_mode": {
    "name": "ipython",
    "version": 3
   },
   "file_extension": ".py",
   "mimetype": "text/x-python",
   "name": "python",
   "nbconvert_exporter": "python",
   "pygments_lexer": "ipython3",
   "version": "3.11.11"
  }
 },
 "nbformat": 4,
 "nbformat_minor": 5
}
