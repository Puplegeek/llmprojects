{
 "cells": [
  {
   "cell_type": "markdown",
   "id": "d15d8294-3328-4e07-ad16-8a03e9bbfdb9",
   "metadata": {},
   "source": [
    "# Instant Gratification\n",
    "\n",
    "## Your first Frontier LLM Project!\n",
    "\n",
    "Let's build a useful LLM solution - in a matter of minutes.\n",
    "\n",
    "By the end of this course, you will have built an autonomous Agentic AI solution with 7 agents that collaborate to solve a business problem. All in good time! We will start with something smaller...\n",
    "\n",
    "Our goal is to code a new kind of Web Browser. Give it a URL, and it will respond with a summary. The Reader's Digest of the internet!!\n",
    "\n",
    "Before starting, you should have completed the setup for [PC](../SETUP-PC.md) or [Mac](../SETUP-mac.md) and you hopefully launched this jupyter lab from within the project root directory, with your environment activated.\n",
    "\n",
    "## If you're new to Jupyter Lab\n",
    "\n",
    "Welcome to the wonderful world of Data Science experimentation! Once you've used Jupyter Lab, you'll wonder how you ever lived without it. Simply click in each \"cell\" with code in it, such as the cell immediately below this text, and hit Shift+Return to execute that cell. As you wish, you can add a cell with the + button in the toolbar, and print values of variables, or try out variations.  \n",
    "\n",
    "I've written a notebook called [Guide to Jupyter](Guide%20to%20Jupyter.ipynb) to help you get more familiar with Jupyter Labs, including adding Markdown comments, using `!` to run shell commands, and `tqdm` to show progress.\n",
    "\n",
    "## If you'd prefer to work in IDEs\n",
    "\n",
    "If you're more comfortable in IDEs like VSCode or Pycharm, they both work great with these lab notebooks too.  \n",
    "If you'd prefer to work in VSCode, [here](https://chatgpt.com/share/676f2e19-c228-8012-9911-6ca42f8ed766) are instructions from an AI friend on how to configure it for the course.\n",
    "\n",
    "## If you'd like to brush up your Python\n",
    "\n",
    "I've added a notebook called [Intermediate Python](Intermediate%20Python.ipynb) to get you up to speed. But you should give it a miss if you already have a good idea what this code does:    \n",
    "`yield from {book.get(\"author\") for book in books if book.get(\"author\")}`\n",
    "\n",
    "## I am here to help\n",
    "\n",
    "If you have any problems at all, please do reach out.  \n",
    "I'm available through the platform, or at ed@edwarddonner.com, or at https://www.linkedin.com/in/eddonner/ if you'd like to connect (and I love connecting!)\n",
    "\n",
    "## More troubleshooting\n",
    "\n",
    "Please see the [troubleshooting](troubleshooting.ipynb) notebook in this folder to diagnose and fix common problems. At the very end of it is a diagnostics script with some useful debug info.\n",
    "\n",
    "## If this is old hat!\n",
    "\n",
    "If you're already comfortable with today's material, please hang in there; you can move swiftly through the first few labs - we will get much more in depth as the weeks progress.\n",
    "\n",
    "<table style=\"margin: 0; text-align: left;\">\n",
    "    <tr>\n",
    "        <td style=\"width: 150px; height: 150px; vertical-align: middle;\">\n",
    "            <img src=\"../important.jpg\" width=\"150\" height=\"150\" style=\"display: block;\" />\n",
    "        </td>\n",
    "        <td>\n",
    "            <h2 style=\"color:#900;\">Please read - important note</h2>\n",
    "            <span style=\"color:#900;\">The way I collaborate with you may be different to other courses you've taken. I prefer not to type code while you watch. Rather, I execute Jupyter Labs, like this, and give you an intuition for what's going on. My suggestion is that you do this with me, either at the same time, or (perhaps better) right afterwards. Add print statements to understand what's going on, and then come up with your own variations. If you have a Github account, use this to showcase your variations. Not only is this essential practice, but it demonstrates your skills to others, including perhaps future clients or employers...</span>\n",
    "        </td>\n",
    "    </tr>\n",
    "</table>\n",
    "<table style=\"margin: 0; text-align: left;\">\n",
    "    <tr>\n",
    "        <td style=\"width: 150px; height: 150px; vertical-align: middle;\">\n",
    "            <img src=\"../business.jpg\" width=\"150\" height=\"150\" style=\"display: block;\" />\n",
    "        </td>\n",
    "        <td>\n",
    "            <h2 style=\"color:#181;\">Business value of these exercises</h2>\n",
    "            <span style=\"color:#181;\">A final thought. While I've designed these notebooks to be educational, I've also tried to make them enjoyable. We'll do fun things like have LLMs tell jokes and argue with each other. But fundamentally, my goal is to teach skills you can apply in business. I'll explain business implications as we go, and it's worth keeping this in mind: as you build experience with models and techniques, think of ways you could put this into action at work today. Please do contact me if you'd like to discuss more or if you have ideas to bounce off me.</span>\n",
    "        </td>\n",
    "    </tr>\n",
    "</table>"
   ]
  },
  {
   "cell_type": "code",
   "execution_count": 2,
   "id": "4e2a9393-7767-488e-a8bf-27c12dca35bd",
   "metadata": {},
   "outputs": [],
   "source": [
    "# imports\n",
    "\n",
    "import os\n",
    "import requests\n",
    "from dotenv import load_dotenv\n",
    "from bs4 import BeautifulSoup\n",
    "from IPython.display import Markdown, display\n",
    "from openai import OpenAI\n",
    "\n",
    "# If you get an error running this cell, then please head over to the troubleshooting notebook!"
   ]
  },
  {
   "cell_type": "markdown",
   "id": "6900b2a8-6384-4316-8aaa-5e519fca4254",
   "metadata": {},
   "source": [
    "# Connecting to OpenAI\n",
    "\n",
    "The next cell is where we load in the environment variables in your `.env` file and connect to OpenAI.\n",
    "\n",
    "## Troubleshooting if you have problems:\n",
    "\n",
    "Head over to the [troubleshooting](troubleshooting.ipynb) notebook in this folder for step by step code to identify the root cause and fix it!\n",
    "\n",
    "If you make a change, try restarting the \"Kernel\" (the python process sitting behind this notebook) by Kernel menu >> Restart Kernel and Clear Outputs of All Cells. Then try this notebook again, starting at the top.\n",
    "\n",
    "Or, contact me! Message me or email ed@edwarddonner.com and we will get this to work.\n",
    "\n",
    "Any concerns about API costs? See my notes in the README - costs should be minimal, and you can control it at every point. You can also use Ollama as a free alternative, which we discuss during Day 2."
   ]
  },
  {
   "cell_type": "code",
   "execution_count": 3,
   "id": "7b87cadb-d513-4303-baee-a37b6f938e4d",
   "metadata": {},
   "outputs": [
    {
     "name": "stdout",
     "output_type": "stream",
     "text": [
      "API key found and looks good so far!\n"
     ]
    }
   ],
   "source": [
    "# Load environment variables in a file called .env\n",
    "\n",
    "load_dotenv(override=True)\n",
    "api_key = os.getenv('OPENAI_API_KEY')\n",
    "\n",
    "# Check the key\n",
    "\n",
    "if not api_key:\n",
    "    print(\"No API key was found - please head over to the troubleshooting notebook in this folder to identify & fix!\")\n",
    "elif not api_key.startswith(\"sk-proj-\"):\n",
    "    print(\"An API key was found, but it doesn't start sk-proj-; please check you're using the right key - see troubleshooting notebook\")\n",
    "elif api_key.strip() != api_key:\n",
    "    print(\"An API key was found, but it looks like it might have space or tab characters at the start or end - please remove them - see troubleshooting notebook\")\n",
    "else:\n",
    "    print(\"API key found and looks good so far!\")\n",
    "    \n"
   ]
  },
  {
   "cell_type": "code",
   "execution_count": 4,
   "id": "019974d9-f3ad-4a8a-b5f9-0a3719aea2d3",
   "metadata": {},
   "outputs": [],
   "source": [
    "openai = OpenAI()\n",
    "\n",
    "# If this doesn't work, try Kernel menu >> Restart Kernel and Clear Outputs Of All Cells, then run the cells from the top of this notebook down.\n",
    "# If it STILL doesn't work (horrors!) then please see the Troubleshooting notebook in this folder for full instructions"
   ]
  },
  {
   "cell_type": "markdown",
   "id": "442fc84b-0815-4f40-99ab-d9a5da6bda91",
   "metadata": {},
   "source": [
    "# Let's make a quick call to a Frontier model to get started, as a preview!"
   ]
  },
  {
   "cell_type": "code",
   "execution_count": 4,
   "id": "a58394bf-1e45-46af-9bfd-01e24da6f49a",
   "metadata": {},
   "outputs": [
    {
     "name": "stdout",
     "output_type": "stream",
     "text": [
      "Hello! Welcome! I'm glad to have you here. How can I assist you today?\n"
     ]
    }
   ],
   "source": [
    "# To give you a preview -- calling OpenAI with these messages is this easy. Any problems, head over to the Troubleshooting notebook.\n",
    "\n",
    "message = \"Hello, GPT! This is my first ever message to you! Hi!\"\n",
    "response = openai.chat.completions.create(model=\"gpt-4o-mini\", messages=[{\"role\":\"user\", \"content\":message}])\n",
    "print(response.choices[0].message.content)"
   ]
  },
  {
   "cell_type": "markdown",
   "id": "2aa190e5-cb31-456a-96cc-db109919cd78",
   "metadata": {},
   "source": [
    "## OK onwards with our first project"
   ]
  },
  {
   "cell_type": "code",
   "execution_count": 5,
   "id": "c5e793b2-6775-426a-a139-4848291d0463",
   "metadata": {},
   "outputs": [],
   "source": [
    "# A class to represent a Webpage\n",
    "# If you're not familiar with Classes, check out the \"Intermediate Python\" notebook\n",
    "\n",
    "# Some websites need you to use proper headers when fetching them:\n",
    "headers = {\n",
    " \"User-Agent\": \"Mozilla/5.0 (Windows NT 10.0; Win64; x64) AppleWebKit/537.36 (KHTML, like Gecko) Chrome/117.0.0.0 Safari/537.36\"\n",
    "}\n",
    "\n",
    "class Website:\n",
    "\n",
    "    def __init__(self, url):\n",
    "        \"\"\"\n",
    "        Create this Website object from the given url using the BeautifulSoup library\n",
    "        \"\"\"\n",
    "        self.url = url\n",
    "        response = requests.get(url, headers=headers)\n",
    "        soup = BeautifulSoup(response.content, 'html.parser')\n",
    "        self.title = soup.title.string if soup.title else \"No title found\"\n",
    "        for irrelevant in soup.body([\"script\", \"style\", \"img\", \"input\"]):\n",
    "            irrelevant.decompose()\n",
    "        self.text = soup.body.get_text(separator=\"\\n\", strip=True)"
   ]
  },
  {
   "cell_type": "code",
   "execution_count": 6,
   "id": "2ef960cf-6dc2-4cda-afb3-b38be12f4c97",
   "metadata": {},
   "outputs": [
    {
     "name": "stdout",
     "output_type": "stream",
     "text": [
      "Web Development and Digital Marketing Agency • &Element\n",
      "&Element\n",
      "About\n",
      "Services\n",
      "Projects\n",
      "Insights\n",
      "Contact Us\n",
      "We are an\n",
      "Innovative\n",
      "Web Development Agency in Essex\n",
      "We are &Element, an award-winning creative agency specialising in web development, artificial intelligence and app development services alongside SEO, brand strategy and UX reviews.\n",
      "Discover &Element\n",
      "We’ve helped hundreds of businesses digitally optimise their company and increase profits.\n",
      "9+\n",
      "9+ years of experience\n",
      "Our team is hyper-focused on helping businesses optimise their internal cloud platforms and growth their digital presence.\n",
      "230% average increase in ROI across our suite of services.\n",
      "235+ projects completed since we were founded in 2015.\n",
      "45m people reached across the world through work.\n",
      "We are a partner you can rely on covering every aspect of your digital strategy.\n",
      "0\n",
      "1\n",
      "Web Development\n",
      "Specialising in React.js websites and dashboards, we build bespoke responsive websites using industry-leading technology that is proven to increase sales.\n",
      "0\n",
      "2\n",
      "UX Design\n",
      "Elevate your brand experience by creating unforgettable and highly converting experiences. We also assist with overall brand strategy improvements.\n",
      "0\n",
      "3\n",
      "App Development\n",
      "Professional App Development for businesses of any size, building packaged solutions for iOS, Android, Linux, Windows and Mac. We also specialise in store kiosks and PWAs.\n",
      "0\n",
      "4\n",
      "Digital Marketing\n",
      "Navigate the digital landscape with precision - ranking higher online is critical to any company’s sales and success. Use our tried and tested approach to scalable marketing.\n",
      "0\n",
      "5\n",
      "Artificial Intelligence\n",
      "Build smart applications, web scrapers, digital chatbots and assistants that can can save your team and clients time, money and effort along increasing user satisfaction.\n",
      "Want to discuss how we can guarantee saving you time and money?\n",
      "Contact us now\n",
      "Case Studies\n",
      "All\n",
      "UX Design\n",
      "Web\n",
      "App\n",
      "Marketing\n",
      "AI\n",
      "Building a platform to manage a nationwide fleet of tyre repairs\n",
      "Learn More\n",
      "Building and integrating a digital platform system to accommodate a global marketplace.\n",
      "Learn More\n",
      "Building and integrating a digital platform system to accommodate a global marketplace.\n",
      "Learn More\n",
      "Delivering a thoughtful disability enablement company a brand presence they deserve.\n",
      "Learn More\n",
      "Building and integrating a digital platform system to accommodate a global marketplace.\n",
      "Learn More\n",
      "Deploying an interactive customer experience to 26 different Samsung stores\n",
      "Learn More\n",
      "Building the world’s biggest peer-to-peer boat rental platform\n",
      "Learn More\n",
      "Enhancing Brand Consistency for Entrepreneurs Forge\n",
      "Learn More\n",
      "Take a look at our full portfolio -\n",
      "view all\n",
      "We believe in a\n",
      "results\n",
      "-driven approach across all of our services.\n",
      "There is so much opportunity to increase your business sales, start your journey today.\n",
      "Contact us\n",
      "94%\n",
      "of first impressions relate to a website’s design.\n",
      "First Impression\n",
      "84%\n",
      "of site visitors expect a mobile site to be better or match desktop quality.\n",
      "Mobile Friendly\n",
      "9/10\n",
      "Poor website experience pushes 89% of consumers to competitors.\n",
      "Customer Retention\n",
      "£5T\n",
      "E-commerce sales reached over $6.5 trillion in 2023.\n",
      "Revenue\n",
      "1s\n",
      "A second delay in page load time results in 7% conversions reduction.\n",
      "Conversion Rates\n",
      "10%\n",
      "You chances of a click if you are not on page one of Google results.\n",
      "Google Rankings\n",
      "Advising on industry leading platforms and technology\n",
      "Amazon web services\n",
      "Cloudflare\n",
      "Google cloud platform\n",
      "Railway\n",
      "Shopify\n",
      "Stripe\n",
      "University of Suffolk\n",
      "Hear it from our clients:\n",
      "success\n",
      "in their own words\n",
      "University of Suffolk\n",
      "Ruth Patron\n",
      "Centre Manager\n",
      "&Element created us an immersive brand and brand strategy for Entrepreneurs Forge. The team worked with us through many research rounds to delivery exactly what we wanted.\n",
      "Cochrane Associates\n",
      "Dr. Peter Cochrane OBE\n",
      "Ex-CTO of BT\n",
      "There is nothing like a change of career for creating a tidal wave of disruption; and after decades of leading industry, I was ready. &Element are the best I have worked with to progress this change, and therefore come with my full support and highest recommendation.\n",
      "Arma Karma\n",
      "Ben Smyth\n",
      "CEO\n",
      "We worked with &Element to create an engaging pipeline of projects over 12 months for our business. Including a marketing website, 3 customer checkouts and a staff dashboard and API integrations, &Element supported us to achieve this huge feat.\n",
      "Ballen Studios\n",
      "Christopher Luich\n",
      "Head of Operations\n",
      "&Element have been fundamental to developing our AI dashboard and other machine learning solutions. They have allowed us to achieve huge growth and modernisation in our company. Thank you for your hard work.\n",
      "Ministry of Defence\n",
      "Sarah Eshelby\n",
      "Employability Officer\n",
      "We approached &Element to build us an employability portal for our tri-service military personnel looking at gaining new skills and career opportunities. They were efficient and helpful throughout the project and we hope to work with them again.\n",
      "Maekersuite\n",
      "Stephanie Demetriou\n",
      "Co-Founder\n",
      "Thank you &Element for your hard work, professionalism and knowledgeability. Leading us over many years to build out our web dashboards and integrate advanced AI features (such as facial tracking, intelligent teleprompters, data scraping).\n",
      "Ready to make your business succeed online?\n",
      "Book A Meeting\n",
      "Phone us\n",
      "Book a free consultation\n",
      "We offer a free review of your digital presence to understand your problems and build a strategy to make you succeed online.\n",
      "Submit\n",
      "Visit\n",
      "&Element\n",
      "S9, Innovation Centre\n",
      "Boundary Road\n",
      "Colchester\n",
      "Essex, CO4 3ZQ\n",
      "Email\n",
      "[email protected]\n",
      "Phone\n",
      "01206 259355\n",
      "Links\n",
      "Homepage\n",
      "About us\n",
      "Case studies\n",
      "All services\n",
      "Contact us\n",
      "Services\n",
      "Website Development\n",
      "UX Design\n",
      "App Development\n",
      "Digital Marketing\n",
      "AI Development\n",
      "© Element Softworks Ltd 2015-2024\n",
      "•\n",
      "Company No. 09486419\n",
      "•\n",
      "VAT No. GB279997505\n",
      "Terms and Conditions\n",
      "Privacy Policy\n"
     ]
    }
   ],
   "source": [
    "# Let's try one out. Change the website and add print statements to follow along.\n",
    "\n",
    "ed = Website(\"https://and-element.com/\")\n",
    "print(ed.title)\n",
    "print(ed.text)"
   ]
  },
  {
   "cell_type": "markdown",
   "id": "6a478a0c-2c53-48ff-869c-4d08199931e1",
   "metadata": {},
   "source": [
    "## Types of prompts\n",
    "\n",
    "You may know this already - but if not, you will get very familiar with it!\n",
    "\n",
    "Models like GPT4o have been trained to receive instructions in a particular way.\n",
    "\n",
    "They expect to receive:\n",
    "\n",
    "**A system prompt** that tells them what task they are performing and what tone they should use\n",
    "\n",
    "**A user prompt** -- the conversation starter that they should reply to"
   ]
  },
  {
   "cell_type": "code",
   "execution_count": 7,
   "id": "abdb8417-c5dc-44bc-9bee-2e059d162699",
   "metadata": {},
   "outputs": [],
   "source": [
    "# Define our system prompt - you can experiment with this later, changing the last sentence to 'Respond in markdown in Spanish.\"\n",
    "\n",
    "system_prompt = \"You are an assistant that analyzes the contents of a website \\\n",
    "and provides a short summary, ignoring text that might be navigation related. \\\n",
    "Respond in markdown.\""
   ]
  },
  {
   "cell_type": "code",
   "execution_count": 8,
   "id": "f0275b1b-7cfe-4f9d-abfa-7650d378da0c",
   "metadata": {},
   "outputs": [],
   "source": [
    "# A function that writes a User Prompt that asks for summaries of websites:\n",
    "\n",
    "def user_prompt_for(website):\n",
    "    user_prompt = f\"You are looking at a website titled {website.title}\"\n",
    "    user_prompt += \"\\nThe contents of this website is as follows; \\\n",
    "please provide a short summary of this website in markdown. \\\n",
    "If it includes news or announcements, then summarize these too.\\n\\n\"\n",
    "    user_prompt += website.text\n",
    "    return user_prompt"
   ]
  },
  {
   "cell_type": "code",
   "execution_count": 9,
   "id": "26448ec4-5c00-4204-baec-7df91d11ff2e",
   "metadata": {},
   "outputs": [
    {
     "name": "stdout",
     "output_type": "stream",
     "text": [
      "You are looking at a website titled Web Development and Digital Marketing Agency • &Element\n",
      "The contents of this website is as follows; please provide a short summary of this website in markdown. If it includes news or announcements, then summarize these too.\n",
      "\n",
      "&Element\n",
      "About\n",
      "Services\n",
      "Projects\n",
      "Insights\n",
      "Contact Us\n",
      "We are an\n",
      "Innovative\n",
      "Web Development Agency in Essex\n",
      "We are &Element, an award-winning creative agency specialising in web development, artificial intelligence and app development services alongside SEO, brand strategy and UX reviews.\n",
      "Discover &Element\n",
      "We’ve helped hundreds of businesses digitally optimise their company and increase profits.\n",
      "9+\n",
      "9+ years of experience\n",
      "Our team is hyper-focused on helping businesses optimise their internal cloud platforms and growth their digital presence.\n",
      "230% average increase in ROI across our suite of services.\n",
      "235+ projects completed since we were founded in 2015.\n",
      "45m people reached across the world through work.\n",
      "We are a partner you can rely on covering every aspect of your digital strategy.\n",
      "0\n",
      "1\n",
      "Web Development\n",
      "Specialising in React.js websites and dashboards, we build bespoke responsive websites using industry-leading technology that is proven to increase sales.\n",
      "0\n",
      "2\n",
      "UX Design\n",
      "Elevate your brand experience by creating unforgettable and highly converting experiences. We also assist with overall brand strategy improvements.\n",
      "0\n",
      "3\n",
      "App Development\n",
      "Professional App Development for businesses of any size, building packaged solutions for iOS, Android, Linux, Windows and Mac. We also specialise in store kiosks and PWAs.\n",
      "0\n",
      "4\n",
      "Digital Marketing\n",
      "Navigate the digital landscape with precision - ranking higher online is critical to any company’s sales and success. Use our tried and tested approach to scalable marketing.\n",
      "0\n",
      "5\n",
      "Artificial Intelligence\n",
      "Build smart applications, web scrapers, digital chatbots and assistants that can can save your team and clients time, money and effort along increasing user satisfaction.\n",
      "Want to discuss how we can guarantee saving you time and money?\n",
      "Contact us now\n",
      "Case Studies\n",
      "All\n",
      "UX Design\n",
      "Web\n",
      "App\n",
      "Marketing\n",
      "AI\n",
      "Building a platform to manage a nationwide fleet of tyre repairs\n",
      "Learn More\n",
      "Building and integrating a digital platform system to accommodate a global marketplace.\n",
      "Learn More\n",
      "Building and integrating a digital platform system to accommodate a global marketplace.\n",
      "Learn More\n",
      "Delivering a thoughtful disability enablement company a brand presence they deserve.\n",
      "Learn More\n",
      "Building and integrating a digital platform system to accommodate a global marketplace.\n",
      "Learn More\n",
      "Deploying an interactive customer experience to 26 different Samsung stores\n",
      "Learn More\n",
      "Building the world’s biggest peer-to-peer boat rental platform\n",
      "Learn More\n",
      "Enhancing Brand Consistency for Entrepreneurs Forge\n",
      "Learn More\n",
      "Take a look at our full portfolio -\n",
      "view all\n",
      "We believe in a\n",
      "results\n",
      "-driven approach across all of our services.\n",
      "There is so much opportunity to increase your business sales, start your journey today.\n",
      "Contact us\n",
      "94%\n",
      "of first impressions relate to a website’s design.\n",
      "First Impression\n",
      "84%\n",
      "of site visitors expect a mobile site to be better or match desktop quality.\n",
      "Mobile Friendly\n",
      "9/10\n",
      "Poor website experience pushes 89% of consumers to competitors.\n",
      "Customer Retention\n",
      "£5T\n",
      "E-commerce sales reached over $6.5 trillion in 2023.\n",
      "Revenue\n",
      "1s\n",
      "A second delay in page load time results in 7% conversions reduction.\n",
      "Conversion Rates\n",
      "10%\n",
      "You chances of a click if you are not on page one of Google results.\n",
      "Google Rankings\n",
      "Advising on industry leading platforms and technology\n",
      "Amazon web services\n",
      "Cloudflare\n",
      "Google cloud platform\n",
      "Railway\n",
      "Shopify\n",
      "Stripe\n",
      "University of Suffolk\n",
      "Hear it from our clients:\n",
      "success\n",
      "in their own words\n",
      "University of Suffolk\n",
      "Ruth Patron\n",
      "Centre Manager\n",
      "&Element created us an immersive brand and brand strategy for Entrepreneurs Forge. The team worked with us through many research rounds to delivery exactly what we wanted.\n",
      "Cochrane Associates\n",
      "Dr. Peter Cochrane OBE\n",
      "Ex-CTO of BT\n",
      "There is nothing like a change of career for creating a tidal wave of disruption; and after decades of leading industry, I was ready. &Element are the best I have worked with to progress this change, and therefore come with my full support and highest recommendation.\n",
      "Arma Karma\n",
      "Ben Smyth\n",
      "CEO\n",
      "We worked with &Element to create an engaging pipeline of projects over 12 months for our business. Including a marketing website, 3 customer checkouts and a staff dashboard and API integrations, &Element supported us to achieve this huge feat.\n",
      "Ballen Studios\n",
      "Christopher Luich\n",
      "Head of Operations\n",
      "&Element have been fundamental to developing our AI dashboard and other machine learning solutions. They have allowed us to achieve huge growth and modernisation in our company. Thank you for your hard work.\n",
      "Ministry of Defence\n",
      "Sarah Eshelby\n",
      "Employability Officer\n",
      "We approached &Element to build us an employability portal for our tri-service military personnel looking at gaining new skills and career opportunities. They were efficient and helpful throughout the project and we hope to work with them again.\n",
      "Maekersuite\n",
      "Stephanie Demetriou\n",
      "Co-Founder\n",
      "Thank you &Element for your hard work, professionalism and knowledgeability. Leading us over many years to build out our web dashboards and integrate advanced AI features (such as facial tracking, intelligent teleprompters, data scraping).\n",
      "Ready to make your business succeed online?\n",
      "Book A Meeting\n",
      "Phone us\n",
      "Book a free consultation\n",
      "We offer a free review of your digital presence to understand your problems and build a strategy to make you succeed online.\n",
      "Submit\n",
      "Visit\n",
      "&Element\n",
      "S9, Innovation Centre\n",
      "Boundary Road\n",
      "Colchester\n",
      "Essex, CO4 3ZQ\n",
      "Email\n",
      "[email protected]\n",
      "Phone\n",
      "01206 259355\n",
      "Links\n",
      "Homepage\n",
      "About us\n",
      "Case studies\n",
      "All services\n",
      "Contact us\n",
      "Services\n",
      "Website Development\n",
      "UX Design\n",
      "App Development\n",
      "Digital Marketing\n",
      "AI Development\n",
      "© Element Softworks Ltd 2015-2024\n",
      "•\n",
      "Company No. 09486419\n",
      "•\n",
      "VAT No. GB279997505\n",
      "Terms and Conditions\n",
      "Privacy Policy\n"
     ]
    }
   ],
   "source": [
    "print(user_prompt_for(ed))"
   ]
  },
  {
   "cell_type": "markdown",
   "id": "ea211b5f-28e1-4a86-8e52-c0b7677cadcc",
   "metadata": {},
   "source": [
    "## Messages\n",
    "\n",
    "The API from OpenAI expects to receive messages in a particular structure.\n",
    "Many of the other APIs share this structure:\n",
    "\n",
    "```\n",
    "[\n",
    "    {\"role\": \"system\", \"content\": \"system message goes here\"},\n",
    "    {\"role\": \"user\", \"content\": \"user message goes here\"}\n",
    "]\n",
    "\n",
    "To give you a preview, the next 2 cells make a rather simple call - we won't stretch the might GPT (yet!)"
   ]
  },
  {
   "cell_type": "code",
   "execution_count": 10,
   "id": "f25dcd35-0cd0-4235-9f64-ac37ed9eaaa5",
   "metadata": {},
   "outputs": [],
   "source": [
    "messages = [\n",
    "    {\"role\": \"system\", \"content\": \"You are a snarky assistant\"},\n",
    "    {\"role\": \"user\", \"content\": \"What is 2 + 2?\"}\n",
    "]"
   ]
  },
  {
   "cell_type": "code",
   "execution_count": 11,
   "id": "21ed95c5-7001-47de-a36d-1d6673b403ce",
   "metadata": {},
   "outputs": [
    {
     "name": "stdout",
     "output_type": "stream",
     "text": [
      "Oh, I don’t know, maybe 22? Just kidding! It’s actually 4. Mind-blowing stuff, I know!\n"
     ]
    }
   ],
   "source": [
    "# To give you a preview -- calling OpenAI with system and user messages:\n",
    "\n",
    "response = openai.chat.completions.create(model=\"gpt-4o-mini\", messages=messages)\n",
    "print(response.choices[0].message.content)"
   ]
  },
  {
   "cell_type": "markdown",
   "id": "d06e8d78-ce4c-4b05-aa8e-17050c82bb47",
   "metadata": {},
   "source": [
    "## And now let's build useful messages for GPT-4o-mini, using a function"
   ]
  },
  {
   "cell_type": "code",
   "execution_count": 12,
   "id": "0134dfa4-8299-48b5-b444-f2a8c3403c88",
   "metadata": {},
   "outputs": [],
   "source": [
    "# See how this function creates exactly the format above\n",
    "\n",
    "def messages_for(website):\n",
    "    return [\n",
    "        {\"role\": \"system\", \"content\": system_prompt},\n",
    "        {\"role\": \"user\", \"content\": user_prompt_for(website)}\n",
    "    ]"
   ]
  },
  {
   "cell_type": "code",
   "execution_count": 13,
   "id": "36478464-39ee-485c-9f3f-6a4e458dbc9c",
   "metadata": {},
   "outputs": [
    {
     "data": {
      "text/plain": [
       "[{'role': 'system',\n",
       "  'content': 'You are an assistant that analyzes the contents of a website and provides a short summary, ignoring text that might be navigation related. Respond in markdown.'},\n",
       " {'role': 'user',\n",
       "  'content': 'You are looking at a website titled Web Development and Digital Marketing Agency • &Element\\nThe contents of this website is as follows; please provide a short summary of this website in markdown. If it includes news or announcements, then summarize these too.\\n\\n&Element\\nAbout\\nServices\\nProjects\\nInsights\\nContact Us\\nWe are an\\nInnovative\\nWeb Development Agency in Essex\\nWe are\\xa0&Element, an award-winning creative agency specialising in web development, artificial intelligence and app development services alongside SEO, brand strategy and UX reviews.\\nDiscover &Element\\nWe’ve helped hundreds of businesses digitally optimise their company and increase profits.\\n9+\\n9+ years of experience\\nOur team is hyper-focused on helping businesses optimise their internal cloud platforms and growth their digital presence.\\n230% average increase in ROI across our suite of services.\\n235+ projects completed since we were founded in 2015.\\n45m people reached across the world through work.\\nWe are a partner you can rely on covering every aspect of your digital strategy.\\n0\\n1\\nWeb Development\\nSpecialising in React.js websites and dashboards, we build bespoke responsive websites using industry-leading technology that is proven to increase sales.\\n0\\n2\\nUX Design\\nElevate your brand experience by creating unforgettable and highly converting experiences. We also assist with overall brand strategy improvements.\\n0\\n3\\nApp Development\\nProfessional App Development for businesses of any size, building packaged solutions for iOS, Android, Linux, Windows and Mac. We also specialise in store kiosks and PWAs.\\n0\\n4\\nDigital Marketing\\nNavigate the digital landscape with precision - ranking higher online is critical to any company’s sales and success. Use our tried and tested approach to scalable marketing.\\n0\\n5\\nArtificial Intelligence\\nBuild smart applications, web scrapers, digital chatbots and assistants that can can save your team and clients time, money and effort along increasing user satisfaction.\\nWant to discuss how we can guarantee saving you time and money?\\nContact us now\\nCase Studies\\nAll\\nUX Design\\nWeb\\nApp\\nMarketing\\nAI\\nBuilding a platform to manage a nationwide fleet of tyre repairs\\nLearn More\\nBuilding and integrating a digital platform system to accommodate a global marketplace.\\nLearn More\\nBuilding and integrating a digital platform system to accommodate a global marketplace.\\nLearn More\\nDelivering a thoughtful disability enablement company a brand presence they deserve.\\nLearn More\\nBuilding and integrating a digital platform system to accommodate a global marketplace.\\nLearn More\\nDeploying an interactive customer experience to 26 different Samsung stores\\nLearn More\\nBuilding the world’s biggest peer-to-peer boat rental platform\\nLearn More\\nEnhancing Brand Consistency for Entrepreneurs Forge\\nLearn More\\nTake a look at our full portfolio -\\nview all\\nWe believe in a\\nresults\\n-driven approach across all of our services.\\nThere is so much opportunity to increase your business sales, start your journey today.\\nContact us\\n94%\\nof first impressions relate to a website’s design.\\nFirst Impression\\n84%\\nof site visitors expect a mobile site to be better or match desktop quality.\\nMobile Friendly\\n9/10\\nPoor website experience pushes 89% of consumers to competitors.\\nCustomer Retention\\n£5T\\nE-commerce sales reached over $6.5 trillion in 2023.\\nRevenue\\n1s\\nA second delay in page load time results in 7% conversions reduction.\\nConversion Rates\\n10%\\nYou chances of a click if you are not on page one of Google results.\\nGoogle Rankings\\nAdvising on industry leading platforms and technology\\nAmazon web services\\nCloudflare\\nGoogle cloud platform\\nRailway\\nShopify\\nStripe\\nUniversity of Suffolk\\nHear it from our clients:\\nsuccess\\nin their own words\\nUniversity of Suffolk\\nRuth Patron\\nCentre Manager\\n&Element created us an immersive brand and brand strategy for Entrepreneurs Forge. The team worked with us through many research rounds to delivery exactly what we wanted.\\nCochrane Associates\\nDr. Peter Cochrane OBE\\nEx-CTO of BT\\nThere is nothing like a change of career for creating a tidal wave of disruption; and after decades of leading industry, I was ready. &Element are the best I have worked with to progress this change, and therefore come with my full support and highest recommendation.\\nArma Karma\\nBen Smyth\\nCEO\\nWe worked with &Element to create an engaging pipeline of projects over 12 months for our business. Including a marketing website, 3 customer checkouts and a staff dashboard and API integrations, &Element supported us to achieve this huge feat.\\nBallen Studios\\nChristopher Luich\\nHead of Operations\\n&Element have been fundamental to developing our AI dashboard and other machine learning solutions. They have allowed us to achieve huge growth and modernisation in our company. Thank you for your hard work.\\nMinistry of Defence\\nSarah Eshelby\\nEmployability Officer\\nWe approached &Element to build us an employability portal for our tri-service military personnel looking at gaining new skills and career opportunities. They were efficient and helpful throughout the project and we hope to work with them again.\\nMaekersuite\\nStephanie Demetriou\\nCo-Founder\\nThank you &Element for your hard work, professionalism and knowledgeability. Leading us over many years to build out our web dashboards and integrate advanced AI features (such as facial tracking, intelligent teleprompters, data scraping).\\nReady to make your business succeed online?\\nBook A Meeting\\nPhone us\\nBook a free consultation\\nWe offer a free review of your digital presence to understand your problems and build a strategy to make you succeed online.\\nSubmit\\nVisit\\n&Element\\nS9, Innovation Centre\\nBoundary Road\\nColchester\\nEssex, CO4 3ZQ\\nEmail\\n[email\\xa0protected]\\nPhone\\n01206 259355\\nLinks\\nHomepage\\nAbout us\\nCase studies\\nAll services\\nContact us\\nServices\\nWebsite Development\\nUX Design\\nApp Development\\nDigital Marketing\\nAI Development\\n© Element Softworks Ltd 2015-2024\\n•\\nCompany No. 09486419\\n•\\nVAT No. GB279997505\\nTerms and Conditions\\nPrivacy Policy'}]"
      ]
     },
     "execution_count": 13,
     "metadata": {},
     "output_type": "execute_result"
    }
   ],
   "source": [
    "# Try this out, and then try for a few more websites\n",
    "\n",
    "messages_for(ed)"
   ]
  },
  {
   "cell_type": "markdown",
   "id": "16f49d46-bf55-4c3e-928f-68fc0bf715b0",
   "metadata": {},
   "source": [
    "## Time to bring it together - the API for OpenAI is very simple!"
   ]
  },
  {
   "cell_type": "code",
   "execution_count": 14,
   "id": "905b9919-aba7-45b5-ae65-81b3d1d78e34",
   "metadata": {},
   "outputs": [],
   "source": [
    "# And now: call the OpenAI API. You will get very familiar with this!\n",
    "\n",
    "def summarize(url):\n",
    "    website = Website(url)\n",
    "    response = openai.chat.completions.create(\n",
    "        model = \"gpt-4o-mini\",\n",
    "        messages = messages_for(website)\n",
    "    )\n",
    "    return response.choices[0].message.content"
   ]
  },
  {
   "cell_type": "code",
   "execution_count": 16,
   "id": "05e38d41-dfa4-4b20-9c96-c46ea75d9fb5",
   "metadata": {},
   "outputs": [
    {
     "data": {
      "text/plain": [
       "\"# &Element: Web Development and Digital Marketing Agency\\n\\n**Overview**  \\n&Element is a creative agency based in Essex, specializing in web development, app development, and digital marketing services. The agency employs a results-driven approach, with a focus on optimizing digital presence and enhancing business profitability.\\n\\n## Services Offered\\n- **Web Development**: Specialization in React.js for creating responsive websites aimed at boosting sales.\\n- **UX Design**: Enhancing brand experiences and improving brand strategy for better conversion rates.\\n- **App Development**: Developing custom applications for various platforms including iOS and Android.\\n- **Digital Marketing**: Implementing effective strategies to improve online rankings and drive sales.\\n- **Artificial Intelligence**: Developing smart solutions such as chatbots and web scrapers to improve user experiences.\\n\\n## Achievements\\n- Over **9 years** of industry experience.\\n- Achieved an average **230% increase in ROI** for clients.\\n- Completed **235+ projects** since 2015.\\n- **45 million** people reached globally through their services.\\n\\n## Client Testimonials\\nThe agency has received positive feedback from various clients, highlighting their efficiency and ability to meet specific needs in web and AI application development.\\n\\n## Insights\\n&Element emphasizes the importance of user experience, pointing out that:\\n- 94% of first impressions are linked to website design.\\n- 89% of consumers switch to competitors due to poor website experience.\\n- A single second delay in loading can decrease conversion rates by 7%.\\n\\n## Conclusion\\n&Element positions itself as a reliable partner in enhancing business digital strategies, aiming to help clients grow and achieve significant online success. They offer free consultations to assess and strategize improvements in clients' digital presence.\""
      ]
     },
     "execution_count": 16,
     "metadata": {},
     "output_type": "execute_result"
    }
   ],
   "source": [
    "summarize(\"https://and-element.com/\")"
   ]
  },
  {
   "cell_type": "code",
   "execution_count": 17,
   "id": "3d926d59-450e-4609-92ba-2d6f244f1342",
   "metadata": {},
   "outputs": [],
   "source": [
    "# A function to display this nicely in the Jupyter output, using markdown\n",
    "\n",
    "def display_summary(url):\n",
    "    summary = summarize(url)\n",
    "    display(Markdown(summary))"
   ]
  },
  {
   "cell_type": "code",
   "execution_count": 19,
   "id": "3018853a-445f-41ff-9560-d925d1774b2f",
   "metadata": {},
   "outputs": [
    {
     "data": {
      "text/markdown": [
       "# Summary of &Element\n",
       "\n",
       "&Element is an award-winning web development and digital marketing agency located in Essex, specializing in a range of services including web development, artificial intelligence, app development, SEO, brand strategy, and user experience (UX) design. Established in 2015, the agency has completed over 235 projects, achieving a substantial average ROI increase of 230% for its clients.\n",
       "\n",
       "## Services Offered\n",
       "- **Web Development**: Focus on bespoke responsive websites primarily using React.js.\n",
       "- **UX Design**: Improving brand experiences through effective design strategies.\n",
       "- **App Development**: Building applications across various platforms like iOS and Android.\n",
       "- **Digital Marketing**: Scalable marketing strategies to enhance online visibility.\n",
       "- **Artificial Intelligence**: Development of smart applications and digital tools to enhance efficiency.\n",
       "\n",
       "With a strong emphasis on results-driven approaches, &Element aims to help businesses optimize their online presence and internal operations.\n",
       "\n",
       "## Client Testimonials\n",
       "Several clients highlight &Element's effective work in enhancing brand strategies, developing comprehensive digital platforms, and integrating advanced AI solutions, reinforcing the agency's commitment to delivering impactful results for varied businesses.\n",
       "\n",
       "## Insights\n",
       "&Element offers a free consultation service to review clients' digital presence and assist in strategizing for online success, showcasing their dedication to driving business growth through tailored solutions.\n",
       "\n",
       "For further engagement, potential clients are encouraged to book a free consultation or meeting to discuss their digital needs."
      ],
      "text/plain": [
       "<IPython.core.display.Markdown object>"
      ]
     },
     "metadata": {},
     "output_type": "display_data"
    }
   ],
   "source": [
    "display_summary(\"https://and-element.com/\")"
   ]
  },
  {
   "cell_type": "markdown",
   "id": "b3bcf6f4-adce-45e9-97ad-d9a5d7a3a624",
   "metadata": {},
   "source": [
    "# Let's try more websites\n",
    "\n",
    "Note that this will only work on websites that can be scraped using this simplistic approach.\n",
    "\n",
    "Websites that are rendered with Javascript, like React apps, won't show up. See the community-contributions folder for a Selenium implementation that gets around this. You'll need to read up on installing Selenium (ask ChatGPT!)\n",
    "\n",
    "Also Websites protected with CloudFront (and similar) may give 403 errors - many thanks Andy J for pointing this out.\n",
    "\n",
    "But many websites will work just fine!"
   ]
  },
  {
   "cell_type": "code",
   "execution_count": 18,
   "id": "45d83403-a24c-44b5-84ac-961449b4008f",
   "metadata": {},
   "outputs": [
    {
     "data": {
      "text/markdown": [
       "# Summary of CNN Website\n",
       "\n",
       "CNN is a comprehensive news platform providing up-to-date breaking news, analysis, and multimedia content across various topics including US and world news, politics, business, health, entertainment, and sports. The site emphasizes real-time updates and developments on significant ongoing events, such as:\n",
       "\n",
       "- **Wildfires in Los Angeles**: Over 6 million people are under a critical fire threat, with recent wildfires being marked as the most destructive in the region's history.\n",
       "- **Ukraine-Russia War**: Both nations are engaged in significant strikes against each other, with implications for international relations and Trump’s impending inauguration.\n",
       "- **Current Global Affairs**: Topics such as Michelle Obama's decision to skip Trump's inauguration, issues surrounding TikTok's future in the U.S., and the current status of the Australian Open in tennis are highlighted.\n",
       "\n",
       "The website also features investigative reports, analysis on military and political issues, and discussions of societal trends related to health, lifestyle, and technology. Multimedia elements, including live television options and videos, provide further engagement for users looking for in-depth coverage and updates on pressing matters globally. \n",
       "\n",
       "The platform encourages user interaction through feedback options regarding advertisements and technical issues, engaging its audience in content relevance and user experience."
      ],
      "text/plain": [
       "<IPython.core.display.Markdown object>"
      ]
     },
     "metadata": {},
     "output_type": "display_data"
    }
   ],
   "source": [
    "display_summary(\"https://cnn.com\")"
   ]
  },
  {
   "cell_type": "code",
   "execution_count": 19,
   "id": "75e9fd40-b354-4341-991e-863ef2e59db7",
   "metadata": {},
   "outputs": [
    {
     "data": {
      "text/markdown": [
       "# Summary of Anthropic's Website\n",
       "\n",
       "Anthropic is an AI safety and research company based in San Francisco, focused on developing reliable and beneficial AI systems. They emphasize safety in AI and innovation through their products.\n",
       "\n",
       "## Key Highlights:\n",
       "\n",
       "### Claude AI Models\n",
       "- **Claude 3.5 Sonnet**: The latest and most intelligent AI model launched.\n",
       "- **Claude 3.5 Haiku**: An additional model update recently introduced.\n",
       "\n",
       "### Recent Announcements\n",
       "- **October 22, 2024**: Introduced the latest Claude models, including computer use features.\n",
       "- **September 4, 2024**: Launch of Claude for Enterprise.\n",
       "- **Past Research (Dec 15, 2022)**: Focus on \"Constitutional AI\" aimed at ensuring harmlessness in AI through feedback.\n",
       "- **March 8, 2023**: Release of core views on AI safety, detailing principles and approaches.\n",
       "\n",
       "### Company Overview\n",
       "Anthropic comprises a diverse team with expertise across various fields such as machine learning, physics, policy, and product development, highlighting their commitment to AI safety research.\n",
       "\n",
       "For more details, users can explore the API to build AI-powered applications and find information about career opportunities at Anthropic."
      ],
      "text/plain": [
       "<IPython.core.display.Markdown object>"
      ]
     },
     "metadata": {},
     "output_type": "display_data"
    }
   ],
   "source": [
    "display_summary(\"https://anthropic.com\")"
   ]
  },
  {
   "cell_type": "markdown",
   "id": "c951be1a-7f1b-448f-af1f-845978e47e2c",
   "metadata": {},
   "source": [
    "<table style=\"margin: 0; text-align: left;\">\n",
    "    <tr>\n",
    "        <td style=\"width: 150px; height: 150px; vertical-align: middle;\">\n",
    "            <img src=\"../business.jpg\" width=\"150\" height=\"150\" style=\"display: block;\" />\n",
    "        </td>\n",
    "        <td>\n",
    "            <h2 style=\"color:#181;\">Business applications</h2>\n",
    "            <span style=\"color:#181;\">In this exercise, you experienced calling the Cloud API of a Frontier Model (a leading model at the frontier of AI) for the first time. We will be using APIs like OpenAI at many stages in the course, in addition to building our own LLMs.\n",
    "\n",
    "More specifically, we've applied this to Summarization - a classic Gen AI use case to make a summary. This can be applied to any business vertical - summarizing the news, summarizing financial performance, summarizing a resume in a cover letter - the applications are limitless. Consider how you could apply Summarization in your business, and try prototyping a solution.</span>\n",
    "        </td>\n",
    "    </tr>\n",
    "</table>\n",
    "\n",
    "<table style=\"margin: 0; text-align: left;\">\n",
    "    <tr>\n",
    "        <td style=\"width: 150px; height: 150px; vertical-align: middle;\">\n",
    "            <img src=\"../important.jpg\" width=\"150\" height=\"150\" style=\"display: block;\" />\n",
    "        </td>\n",
    "        <td>\n",
    "            <h2 style=\"color:#900;\">Before you continue - now try yourself</h2>\n",
    "            <span style=\"color:#900;\">Use the cell below to make your own simple commercial example. Stick with the summarization use case for now. Here's an idea: write something that will take the contents of an email, and will suggest an appropriate short subject line for the email. That's the kind of feature that might be built into a commercial email tool.</span>\n",
    "        </td>\n",
    "    </tr>\n",
    "</table>"
   ]
  },
  {
   "cell_type": "code",
   "execution_count": null,
   "id": "00743dac-0e70-45b7-879a-d7293a6f68a6",
   "metadata": {},
   "outputs": [],
   "source": [
    "# Step 1: Create your prompts\n",
    "\n",
    "system_prompt = \"something here\"\n",
    "user_prompt = \"\"\"\n",
    "    Lots of text\n",
    "    Can be pasted here\n",
    "\"\"\"\n",
    "\n",
    "# Step 2: Make the messages list\n",
    "\n",
    "messages = [] # fill this in\n",
    "\n",
    "# Step 3: Call OpenAI\n",
    "\n",
    "response =\n",
    "\n",
    "# Step 4: print the result\n",
    "\n",
    "print("
   ]
  },
  {
   "cell_type": "markdown",
   "id": "36ed9f14-b349-40e9-a42c-b367e77f8bda",
   "metadata": {},
   "source": [
    "## An extra exercise for those who enjoy web scraping\n",
    "\n",
    "You may notice that if you try `display_summary(\"https://openai.com\")` - it doesn't work! That's because OpenAI has a fancy website that uses Javascript. There are many ways around this that some of you might be familiar with. For example, Selenium is a hugely popular framework that runs a browser behind the scenes, renders the page, and allows you to query it. If you have experience with Selenium, Playwright or similar, then feel free to improve the Website class to use them. In the community-contributions folder, you'll find an example Selenium solution from a student (thank you!)"
   ]
  },
  {
   "cell_type": "markdown",
   "id": "eeab24dc-5f90-4570-b542-b0585aca3eb6",
   "metadata": {},
   "source": [
    "# Sharing your code\n",
    "\n",
    "I'd love it if you share your code afterwards so I can share it with others! You'll notice that some students have already made changes (including a Selenium implementation) which you will find in the community-contributions folder. If you'd like add your changes to that folder, submit a Pull Request with your new versions in that folder and I'll merge your changes.\n",
    "\n",
    "If you're not an expert with git (and I am not!) then GPT has given some nice instructions on how to submit a Pull Request. It's a bit of an involved process, but once you've done it once it's pretty clear. As a pro-tip: it's best if you clear the outputs of your Jupyter notebooks (Edit >> Clean outputs of all cells, and then Save) for clean notebooks.\n",
    "\n",
    "Here are good instructions courtesy of an AI friend:  \n",
    "https://chatgpt.com/share/677a9cb5-c64c-8012-99e0-e06e88afd293"
   ]
  }
 ],
 "metadata": {
  "kernelspec": {
   "display_name": "Python 3 (ipykernel)",
   "language": "python",
   "name": "python3"
  },
  "language_info": {
   "codemirror_mode": {
    "name": "ipython",
    "version": 3
   },
   "file_extension": ".py",
   "mimetype": "text/x-python",
   "name": "python",
   "nbconvert_exporter": "python",
   "pygments_lexer": "ipython3",
   "version": "3.11.11"
  }
 },
 "nbformat": 4,
 "nbformat_minor": 5
}
