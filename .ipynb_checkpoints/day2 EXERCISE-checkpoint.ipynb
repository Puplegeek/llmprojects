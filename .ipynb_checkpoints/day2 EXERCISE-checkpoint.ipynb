{
 "cells": [
  {
   "cell_type": "markdown",
   "id": "d15d8294-3328-4e07-ad16-8a03e9bbfdb9",
   "metadata": {},
   "source": [
    "# Welcome to your first assignment!\n",
    "\n",
    "Instructions are below. Please give this a try, and look in the solutions folder if you get stuck (or feel free to ask me!)"
   ]
  },
  {
   "cell_type": "markdown",
   "id": "ada885d9-4d42-4d9b-97f0-74fbbbfe93a9",
   "metadata": {},
   "source": [
    "<table style=\"margin: 0; text-align: left;\">\n",
    "    <tr>\n",
    "        <td style=\"width: 150px; height: 150px; vertical-align: middle;\">\n",
    "            <img src=\"../resources.jpg\" width=\"150\" height=\"150\" style=\"display: block;\" />\n",
    "        </td>\n",
    "        <td>\n",
    "            <h2 style=\"color:#f71;\">Just before we get to the assignment --</h2>\n",
    "            <span style=\"color:#f71;\">I thought I'd take a second to point you at this page of useful resources for the course. This includes links to all the slides.<br/>\n",
    "            <a href=\"https://edwarddonner.com/2024/11/13/llm-engineering-resources/\">https://edwarddonner.com/2024/11/13/llm-engineering-resources/</a><br/>\n",
    "            Please keep this bookmarked, and I'll continue to add more useful links there over time.\n",
    "            </span>\n",
    "        </td>\n",
    "    </tr>\n",
    "</table>"
   ]
  },
  {
   "cell_type": "markdown",
   "id": "6e9fa1fc-eac5-4d1d-9be4-541b3f2b3458",
   "metadata": {},
   "source": [
    "# HOMEWORK EXERCISE ASSIGNMENT\n",
    "\n",
    "Upgrade the day 1 project to summarize a webpage to use an Open Source model running locally via Ollama rather than OpenAI\n",
    "\n",
    "You'll be able to use this technique for all subsequent projects if you'd prefer not to use paid APIs.\n",
    "\n",
    "**Benefits:**\n",
    "1. No API charges - open-source\n",
    "2. Data doesn't leave your box\n",
    "\n",
    "**Disadvantages:**\n",
    "1. Significantly less power than Frontier Model\n",
    "\n",
    "## Recap on installation of Ollama\n",
    "\n",
    "Simply visit [ollama.com](https://ollama.com) and install!\n",
    "\n",
    "Once complete, the ollama server should already be running locally.  \n",
    "If you visit:  \n",
    "[http://localhost:11434/](http://localhost:11434/)\n",
    "\n",
    "You should see the message `Ollama is running`.  \n",
    "\n",
    "If not, bring up a new Terminal (Mac) or Powershell (Windows) and enter `ollama serve`  \n",
    "And in another Terminal (Mac) or Powershell (Windows), enter `ollama pull llama3.2`  \n",
    "Then try [http://localhost:11434/](http://localhost:11434/) again.\n",
    "\n",
    "If Ollama is slow on your machine, try using `llama3.2:1b` as an alternative. Run `ollama pull llama3.2:1b` from a Terminal or Powershell, and change the code below from `MODEL = \"llama3.2\"` to `MODEL = \"llama3.2:1b\"`"
   ]
  },
  {
   "cell_type": "code",
   "execution_count": 1,
   "id": "4e2a9393-7767-488e-a8bf-27c12dca35bd",
   "metadata": {},
   "outputs": [],
   "source": [
    "# imports\n",
    "\n",
    "import requests\n",
    "from bs4 import BeautifulSoup\n",
    "from IPython.display import Markdown, display"
   ]
  },
  {
   "cell_type": "code",
   "execution_count": 2,
   "id": "29ddd15d-a3c5-4f4e-a678-873f56162724",
   "metadata": {},
   "outputs": [],
   "source": [
    "# Constants\n",
    "\n",
    "OLLAMA_API = \"http://localhost:11434/api/chat\"\n",
    "HEADERS = {\"Content-Type\": \"application/json\"}\n",
    "MODEL = \"llama3.2\""
   ]
  },
  {
   "cell_type": "code",
   "execution_count": 3,
   "id": "dac0a679-599c-441f-9bf2-ddc73d35b940",
   "metadata": {},
   "outputs": [],
   "source": [
    "# Create a messages list using the same format that we used for OpenAI\n",
    "\n",
    "messages = [\n",
    "    {\"role\": \"user\", \"content\": \"Describe some of the business applications of Generative AI\"}\n",
    "]"
   ]
  },
  {
   "cell_type": "code",
   "execution_count": 4,
   "id": "7bb9c624-14f0-4945-a719-8ddb64f66f47",
   "metadata": {},
   "outputs": [],
   "source": [
    "payload = {\n",
    "        \"model\": MODEL,\n",
    "        \"messages\": messages,\n",
    "        \"stream\": False\n",
    "    }"
   ]
  },
  {
   "cell_type": "code",
   "execution_count": 5,
   "id": "479ff514-e8bd-4985-a572-2ea28bb4fa40",
   "metadata": {},
   "outputs": [
    {
     "name": "stdout",
     "output_type": "stream",
     "text": [
      "\u001b[?25lpulling manifest ⠋ \u001b[?25h\u001b[?25l\u001b[2K\u001b[1Gpulling manifest ⠙ \u001b[?25h\u001b[?25l\u001b[2K\u001b[1Gpulling manifest ⠹ \u001b[?25h\u001b[?25l\u001b[2K\u001b[1Gpulling manifest ⠸ \u001b[?25h\u001b[?25l\u001b[2K\u001b[1Gpulling manifest ⠼ \u001b[?25h\u001b[?25l\u001b[2K\u001b[1Gpulling manifest ⠴ \u001b[?25h\u001b[?25l\u001b[2K\u001b[1Gpulling manifest ⠦ \u001b[?25h\u001b[?25l\u001b[2K\u001b[1Gpulling manifest ⠧ \u001b[?25h\u001b[?25l\u001b[2K\u001b[1Gpulling manifest \n",
      "pulling dde5aa3fc5ff... 100% ▕████████████████▏ 2.0 GB                         \n",
      "pulling 966de95ca8a6... 100% ▕████████████████▏ 1.4 KB                         \n",
      "pulling fcc5a6bec9da... 100% ▕████████████████▏ 7.7 KB                         \n",
      "pulling a70ff7e570d9... 100% ▕████████████████▏ 6.0 KB                         \n",
      "pulling 56bb8bd477a5... 100% ▕████████████████▏   96 B                         \n",
      "pulling 34bb5ab01051... 100% ▕████████████████▏  561 B                         \n",
      "verifying sha256 digest \n",
      "writing manifest \n",
      "success \u001b[?25h\n"
     ]
    }
   ],
   "source": [
    "# Let's just make sure the model is loaded\n",
    "\n",
    "!ollama pull llama3.2"
   ]
  },
  {
   "cell_type": "code",
   "execution_count": 6,
   "id": "42b9f644-522d-4e05-a691-56e7658c0ea9",
   "metadata": {},
   "outputs": [
    {
     "name": "stdout",
     "output_type": "stream",
     "text": [
      "Generative AI has numerous business applications across various industries, including:\n",
      "\n",
      "1. **Content Creation**: Generative AI can create high-quality content such as articles, social media posts, product descriptions, and even entire books. This can help reduce content creation costs and increase productivity.\n",
      "2. **Graphic Design**: Generative AI can generate unique graphics, logos, and images for branding, advertising, and marketing purposes.\n",
      "3. **Product Design**: Generative AI can design products such as furniture, electronics, and clothing by creating 3D models and prototypes.\n",
      "4. **Music Composition**: Generative AI can create original music compositions for various applications, including film scores, advertisements, and video games.\n",
      "5. **Chatbots and Virtual Assistants**: Generative AI can power chatbots and virtual assistants to provide customer support, answer frequently asked questions, and offer personalized recommendations.\n",
      "6. **Predictive Analytics**: Generative AI can analyze large datasets to predict future trends, forecast demand, and identify potential risks and opportunities.\n",
      "7. **Marketing Automation**: Generative AI can automate marketing campaigns by creating personalized messages, offers, and content based on customer behavior and preferences.\n",
      "8. **Customer Service**: Generative AI can provide 24/7 customer support, respond to common queries, and escalate complex issues to human agents.\n",
      "9. **Recommendation Systems**: Generative AI can create personalized product recommendations for e-commerce platforms, streaming services, and other applications.\n",
      "10. **Business Intelligence**: Generative AI can analyze large datasets to identify business insights, detect anomalies, and predict future performance.\n",
      "\n",
      "Some specific examples of businesses that are using generative AI include:\n",
      "\n",
      "1. **Salesforce**: Using generative AI to create personalized sales messages and content.\n",
      "2. **Microsoft**: Using generative AI to design custom graphics, logos, and images for their branding.\n",
      "3. **Netflix**: Using generative AI to recommend personalized content to users.\n",
      "4. **Amazon**: Using generative AI to power chatbots and virtual assistants for customer support.\n",
      "5. **PepsiCo**: Using generative AI to analyze customer behavior and create personalized marketing campaigns.\n",
      "\n",
      "These are just a few examples of the many businesses that are leveraging generative AI to drive innovation, productivity, and growth.\n"
     ]
    }
   ],
   "source": [
    "# If this doesn't work for any reason, try the 2 versions in the following cells\n",
    "# And double check the instructions in the 'Recap on installation of Ollama' at the top of this lab\n",
    "# And if none of that works - contact me!\n",
    "\n",
    "response = requests.post(OLLAMA_API, json=payload, headers=HEADERS)\n",
    "print(response.json()['message']['content'])"
   ]
  },
  {
   "cell_type": "markdown",
   "id": "6a021f13-d6a1-4b96-8e18-4eae49d876fe",
   "metadata": {},
   "source": [
    "# Introducing the ollama package\n",
    "\n",
    "And now we'll do the same thing, but using the elegant ollama python package instead of a direct HTTP call.\n",
    "\n",
    "Under the hood, it's making the same call as above to the ollama server running at localhost:11434"
   ]
  },
  {
   "cell_type": "code",
   "execution_count": 7,
   "id": "7745b9c4-57dc-4867-9180-61fa5db55eb8",
   "metadata": {},
   "outputs": [
    {
     "name": "stdout",
     "output_type": "stream",
     "text": [
      "Generative AI has numerous business applications across various industries. Here are some examples:\n",
      "\n",
      "1. **Content Creation**: Generative AI can be used to create high-quality content such as images, videos, and text. For instance, companies like Adobe and Microsoft have developed tools that use generative AI to generate realistic images for advertising and marketing campaigns.\n",
      "2. **Chatbots and Virtual Assistants**: Generative AI can power chatbots and virtual assistants that provide personalized customer service, answer frequently asked questions, and help with transactions. Companies like Amazon and Google are using generative AI to improve the conversational experience of their virtual assistants.\n",
      "3. **Product Design and Development**: Generative AI can be used to design new products, such as furniture, clothing, and electronics. For example, companies like IKEA and H&M have partnered with generative AI startups to create new product designs.\n",
      "4. **Marketing Automation**: Generative AI can help automate marketing processes by generating personalized emails, social media posts, and ads based on customer data and behavior. Companies like IBM and Salesforce are using generative AI to enhance their marketing automation platforms.\n",
      "5. **Data Analysis and Visualization**: Generative AI can be used to analyze large datasets and generate insights that would take human analysts hours to produce. For instance, companies like Accenture and Deloitte are using generative AI to analyze customer data and identify patterns.\n",
      "6. **Predictive Maintenance**: Generative AI can help predict equipment failures and schedule maintenance to prevent downtime. Companies like GE Appliances and Siemens have developed predictive maintenance platforms that use generative AI to analyze sensor data from equipment.\n",
      "7. **Financial Modeling and Risk Analysis**: Generative AI can be used to generate financial models, forecasts, and risk assessments for companies. For example, companies like BlackRock and Morgan Stanley are using generative AI to analyze market trends and predict stock prices.\n",
      "8. **Supply Chain Optimization**: Generative AI can help optimize supply chain operations by predicting demand, managing inventory, and identifying bottlenecks. Companies like Walmart and Procter & Gamble have developed supply chain optimization platforms that use generative AI to analyze data from various sources.\n",
      "9. **Healthcare and Biotech**: Generative AI can be used to develop new treatments, diagnose diseases, and personalize patient care. For instance, companies like IBM Watson Health and DeepMind are developing AI-powered tools for healthcare professionals.\n",
      "10. **Cybersecurity**: Generative AI can help detect and respond to cyber threats by analyzing network traffic patterns and predicting attack vectors. Companies like Palo Alto Networks and Cyberark are using generative AI to enhance their cybersecurity platforms.\n",
      "\n",
      "These are just a few examples of the many business applications of Generative AI. As the technology continues to evolve, we can expect to see even more innovative use cases emerge across various industries.\n"
     ]
    }
   ],
   "source": [
    "import ollama\n",
    "\n",
    "response = ollama.chat(model=MODEL, messages=messages)\n",
    "print(response['message']['content'])"
   ]
  },
  {
   "cell_type": "markdown",
   "id": "a4704e10-f5fb-4c15-a935-f046c06fb13d",
   "metadata": {},
   "source": [
    "## Alternative approach - using OpenAI python library to connect to Ollama"
   ]
  },
  {
   "cell_type": "code",
   "execution_count": 8,
   "id": "23057e00-b6fc-4678-93a9-6b31cb704bff",
   "metadata": {},
   "outputs": [
    {
     "name": "stdout",
     "output_type": "stream",
     "text": [
      "Generative AI has numerous business applications across various industries, including:\n",
      "\n",
      "1. **Content Creation**: Generate high-quality content such as blog posts, social media posts, product descriptions, and more, using text or image-based models.\n",
      "2. **Design Assistance**: Use generative models to assist in design decisions, such as generating ideas for logos, brand identities, and UI/UX designs.\n",
      "3. **Image and Video Production**: Generate realistic images and videos for advertising, marketing, entertainment, and other industries requiring high-quality visual content.\n",
      "4. **Chatbots and Customer Service**: Create conversational chatbots that can understand and respond to customer inquiries, reducing the need for human customer support agents.\n",
      "5. **Marketing Automation**: Use generative models to optimize marketing campaigns by generating personalized messages, offers, and promotions in real-time.\n",
      "6. **Data Analysis and Visualization**: Generate insights from large datasets using model-based approaches, enabling faster data analysis and better decision-making.\n",
      "7. **Predictive Maintenance**: Apply generative models to predict equipment failures or maintenance requirements, reducing downtime and improving overall efficiency.\n",
      "8. **Fraud Detection and Risk Analysis**: Use generative models to identify patterns in financial transactions or other data that indicate potential fraud or risk.\n",
      "9. **Recommendation Systems**: Create personalized product recommendations using generative models, enhancing the user experience for e-commerce platforms.\n",
      "10. **Supply Chain Optimization**: Analyze supply chain operations using generative models, identifying bottlenecks and optimizing logistics and inventory management.\n",
      "11. **Brand Journalism**: Generate high-quality articles, reviews, and social media posts to establish a brand's voice and identity.\n",
      "12. **User Interface and User Experience (UI/UX) Design**: Utilize generative models to design intuitive and user-friendly interfaces for websites and applications.\n",
      "13. **Speech Synthesis**: Produce high-quality speech synthesis solutions for audiobooks, podcasts, or advertising.\n",
      "14. **Music Composition**: Generate music tracks using generative models, enabling the creation of original musical compositions.\n",
      "15. **Video Generation for Social Media**: Create short-form videos for social media platforms using text-to-video or image-based models.\n",
      "\n",
      "These applications demonstrate the vast potential of Generative AI in transforming various industries and facilitating business growth through increased efficiency, productivity, and innovation.\n"
     ]
    }
   ],
   "source": [
    "# There's actually an alternative approach that some people might prefer\n",
    "# You can use the OpenAI client python library to call Ollama:\n",
    "\n",
    "from openai import OpenAI\n",
    "ollama_via_openai = OpenAI(base_url='http://localhost:11434/v1', api_key='ollama')\n",
    "\n",
    "response = ollama_via_openai.chat.completions.create(\n",
    "    model=MODEL,\n",
    "    messages=messages\n",
    ")\n",
    "\n",
    "print(response.choices[0].message.content)"
   ]
  },
  {
   "cell_type": "markdown",
   "id": "1622d9bb-5c68-4d4e-9ca4-b492c751f898",
   "metadata": {},
   "source": [
    "# NOW the exercise for you\n",
    "\n",
    "Take the code from day1 and incorporate it here, to build a website summarizer that uses Llama 3.2 running locally instead of OpenAI; use either of the above approaches."
   ]
  },
  {
   "cell_type": "code",
   "execution_count": null,
   "id": "402d5686-4e76-4110-b65a-b3906c35c0a4",
   "metadata": {},
   "outputs": [],
   "source": []
  }
 ],
 "metadata": {
  "kernelspec": {
   "display_name": "Python 3 (ipykernel)",
   "language": "python",
   "name": "python3"
  },
  "language_info": {
   "codemirror_mode": {
    "name": "ipython",
    "version": 3
   },
   "file_extension": ".py",
   "mimetype": "text/x-python",
   "name": "python",
   "nbconvert_exporter": "python",
   "pygments_lexer": "ipython3",
   "version": "3.11.11"
  }
 },
 "nbformat": 4,
 "nbformat_minor": 5
}
