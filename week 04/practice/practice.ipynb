{
 "cells": [
  {
   "cell_type": "code",
   "execution_count": 11,
   "id": "e9fe99f1-8368-43f8-aa60-5eefdebcac40",
   "metadata": {},
   "outputs": [
    {
     "name": "stdout",
     "output_type": "stream",
     "text": [
      "{'red': 486987, 'black': 486073, 'green': 26940}\n",
      "0.486987\n"
     ]
    }
   ],
   "source": [
    "import random\n",
    "\n",
    "def play_roulette():\n",
    "    total_slots = 37\n",
    "    red_probability   = (18 / total_slots) * 100\n",
    "    black_probability = (18 / total_slots) * 100\n",
    "    green_probability = (1 / total_slots) * 100\n",
    "    \n",
    "    possible_outcomes = [\"red\", \"black\", \"green\"]\n",
    "    probabilities = [red_probability, black_probability, green_probability]\n",
    "    \n",
    "    outcome = random.choices(possible_outcomes, weights=probabilities, k=1)[0]\n",
    "    \n",
    "    return outcome\n",
    "    \n",
    "    \n",
    "def perform_simulation(n_times=1000, choice=\"red\"):   \n",
    "    results = { \"red\": 0, \"black\": 0, \"green\": 0 }\n",
    "    \n",
    "    for i in range(n_times):\n",
    "        outcome = play_roulette()\n",
    "        results[outcome] += 1\n",
    "           \n",
    "    win_percentage = results[choice] / n_times\n",
    "        \n",
    "    return results, win_percentage\n",
    "\n",
    "        \n",
    "if __name__ == \"__main__\":\n",
    "    results, win_percentage = perform_simulation(n_times=1000000, \n",
    "                                                 choice=\"red\")\n",
    "    \n",
    "    print(results)\n",
    "    print(win_percentage)\n"
   ]
  },
  {
   "cell_type": "code",
   "execution_count": null,
   "id": "ff80919b-e080-4978-a5f1-14bbec0c3e75",
   "metadata": {},
   "outputs": [],
   "source": []
  }
 ],
 "metadata": {
  "kernelspec": {
   "display_name": "Python [conda env:base] *",
   "language": "python",
   "name": "conda-base-py"
  },
  "language_info": {
   "codemirror_mode": {
    "name": "ipython",
    "version": 3
   },
   "file_extension": ".py",
   "mimetype": "text/x-python",
   "name": "python",
   "nbconvert_exporter": "python",
   "pygments_lexer": "ipython3",
   "version": "3.12.2"
  }
 },
 "nbformat": 4,
 "nbformat_minor": 5
}
