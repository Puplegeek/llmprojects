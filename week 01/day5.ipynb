{
 "cells": [
  {
   "cell_type": "code",
   "execution_count": 1,
   "id": "d5b08506-dc8b-4443-9201-5f1848161363",
   "metadata": {},
   "outputs": [],
   "source": [
    "# imports\n",
    "# If these fail, please check you're running from an 'activated' environment with (llms) in the command prompt\n",
    "\n",
    "import os\n",
    "import requests\n",
    "import json\n",
    "from typing import List\n",
    "from dotenv import load_dotenv\n",
    "from bs4 import BeautifulSoup\n",
    "from IPython.display import Markdown, display, update_display\n",
    "from openai import OpenAI"
   ]
  },
  {
   "cell_type": "code",
   "execution_count": 2,
   "id": "fc5d8880-f2ee-4c06-af16-ecbc0262af61",
   "metadata": {},
   "outputs": [],
   "source": [
    "# Initialize and constants\n",
    "\n",
    "load_dotenv(override=True)\n",
    "api_key = os.getenv('OPENAI_API_KEY')\n",
    "MODEL = 'gpt-4o-mini'\n",
    "openai = OpenAI()"
   ]
  },
  {
   "cell_type": "code",
   "execution_count": 3,
   "id": "106dd65e-90af-4ca8-86b6-23a41840645b",
   "metadata": {},
   "outputs": [],
   "source": [
    "headers = {\n",
    " \"User-Agent\": \"Mozilla/5.0 (Windows NT 10.0; Win64; x64) AppleWebKit/537.36 (KHTML, like Gecko) Chrome/117.0.0.0 Safari/537.36\"\n",
    "}\n",
    "\n",
    "class Website:\n",
    "    \"\"\"\n",
    "    A utility class to represent a Website that we have scraped, now with links\n",
    "    \"\"\"\n",
    "\n",
    "    def __init__(self, url):\n",
    "        self.url = url\n",
    "        response = requests.get(url, headers=headers)\n",
    "        self.body = response.content\n",
    "        soup = BeautifulSoup(self.body, 'html.parser')\n",
    "        self.title = soup.title.string if soup.title else \"No title found\"\n",
    "        if soup.body:\n",
    "            for irrelevant in soup.body([\"script\", \"style\", \"img\", \"input\"]):\n",
    "                irrelevant.decompose()\n",
    "            self.text = soup.body.get_text(separator=\"\\n\", strip=True)\n",
    "        else:\n",
    "            self.text = \"\"\n",
    "        links = [link.get('href') for link in soup.find_all('a')]\n",
    "        self.links = [link for link in links if link]\n",
    "\n",
    "    def get_contents(self):\n",
    "        return f\"Webpage Title:\\n{self.title}\\nWebpage Contents:\\n{self.text}\\n\\n\""
   ]
  },
  {
   "cell_type": "code",
   "execution_count": 4,
   "id": "e30d8128-933b-44cc-81c8-ab4c9d86589a",
   "metadata": {},
   "outputs": [
    {
     "data": {
      "text/plain": [
       "['/',\n",
       " '/about',\n",
       " '/projects',\n",
       " '/blog',\n",
       " '/contact-us',\n",
       " '#services',\n",
       " '/services/website-development',\n",
       " '/services/ux-design',\n",
       " '/services/app-development',\n",
       " '/services/digital-marketing',\n",
       " '/services/ai-development',\n",
       " '/contact-us',\n",
       " '/projects/anglian-truck-tyres',\n",
       " '/projects/arma-karma',\n",
       " '/projects/le-sankey-arts',\n",
       " '/projects/live-you',\n",
       " '/projects/retreat-east',\n",
       " '/projects/samsung',\n",
       " '/projects/skipper-my-boat',\n",
       " '/projects/university-of-suffolk',\n",
       " '/projects',\n",
       " '/contact-us',\n",
       " 'https://calendly.com/luke-and-element/30min',\n",
       " 'tel:01206 259355',\n",
       " 'https://www.instagram.com/elementsoftworks/?hl=en',\n",
       " 'https://m.facebook.com/andelementagency',\n",
       " 'https://www.linkedin.com/company/and-element/mycompany/',\n",
       " '/cdn-cgi/l/email-protection#e591808488a5848b81c880898088808b91cb868a88',\n",
       " 'tel:01206 259355',\n",
       " '/',\n",
       " '/about',\n",
       " '/projects',\n",
       " '/services',\n",
       " '/contact-us',\n",
       " '/services/website-development',\n",
       " '/services/ux-design',\n",
       " '/services/app-development',\n",
       " '/services/digital-marketing',\n",
       " '/services/ai-development',\n",
       " '/terms-and-conditions',\n",
       " '/privacy-policy']"
      ]
     },
     "execution_count": 4,
     "metadata": {},
     "output_type": "execute_result"
    }
   ],
   "source": [
    "ed = Website(\"https://and-element.com/\")\n",
    "ed.links"
   ]
  },
  {
   "cell_type": "markdown",
   "id": "1771af9c-717a-4fca-bbbe-8a95893312c3",
   "metadata": {},
   "source": [
    "## First step: Have GPT-4o-mini figure out which links are relevant\n",
    "\n",
    "### Use a call to gpt-4o-mini to read the links on a webpage, and respond in structured JSON.  \n",
    "It should decide which links are relevant, and replace relative links such as \"/about\" with \"https://company.com/about\".  \n",
    "We will use \"one shot prompting\" in which we provide an example of how it should respond in the prompt.\n",
    "\n",
    "This is an excellent use case for an LLM, because it requires nuanced understanding. Imagine trying to code this without LLMs by parsing and analyzing the webpage - it would be very hard!\n",
    "\n",
    "Sidenote: there is a more advanced technique called \"Structured Outputs\" in which we require the model to respond according to a spec. We cover this technique in Week 8 during our autonomous Agentic AI project."
   ]
  },
  {
   "cell_type": "code",
   "execution_count": 5,
   "id": "6957b079-0d96-45f7-a26a-3487510e9b35",
   "metadata": {},
   "outputs": [],
   "source": [
    "link_system_prompt = \"You are provided with a list of links found on a webpage. \\\n",
    "You are able to decide which of the links would be most relevant to include in a brochure about the company, \\\n",
    "such as links to an About page, or a Company page, or Careers/Jobs pages and projects pages.\\n\"\n",
    "link_system_prompt += \"You should respond in JSON as in this example:\"\n",
    "link_system_prompt += \"\"\"\n",
    "{\n",
    "    \"links\": [\n",
    "        {\"type\": \"about page\", \"url\": \"https://full.url/goes/here/about\"},\n",
    "        {\"type\": \"careers page\": \"url\": \"https://another.full.url/careers\"}\n",
    "    ]\n",
    "}\n",
    "\"\"\""
   ]
  },
  {
   "cell_type": "code",
   "execution_count": 6,
   "id": "b97e4068-97ed-4120-beae-c42105e4d59a",
   "metadata": {},
   "outputs": [
    {
     "name": "stdout",
     "output_type": "stream",
     "text": [
      "You are provided with a list of links found on a webpage. You are able to decide which of the links would be most relevant to include in a brochure about the company, such as links to an About page, or a Company page, or Careers/Jobs pages and projects pages.\n",
      "You should respond in JSON as in this example:\n",
      "{\n",
      "    \"links\": [\n",
      "        {\"type\": \"about page\", \"url\": \"https://full.url/goes/here/about\"},\n",
      "        {\"type\": \"careers page\": \"url\": \"https://another.full.url/careers\"}\n",
      "    ]\n",
      "}\n",
      "\n"
     ]
    }
   ],
   "source": [
    "print(link_system_prompt)"
   ]
  },
  {
   "cell_type": "code",
   "execution_count": 7,
   "id": "8e1f601b-2eaf-499d-b6b8-c99050c9d6b3",
   "metadata": {},
   "outputs": [],
   "source": [
    "def get_links_user_prompt(website):\n",
    "    user_prompt = f\"Here is the list of links on the website of {website.url} - \"\n",
    "    user_prompt += \"please decide which of these are relevant web links for a brochure about the company, respond with the full https URL in JSON format. \\\n",
    "Do not include Terms of Service, Privacy, email links.\\n\"\n",
    "    user_prompt += \"Links (some might be relative links):\\n\"\n",
    "    user_prompt += \"\\n\".join(website.links)\n",
    "    return user_prompt"
   ]
  },
  {
   "cell_type": "code",
   "execution_count": 8,
   "id": "6bcbfa78-6395-4685-b92c-22d592050fd7",
   "metadata": {},
   "outputs": [
    {
     "name": "stdout",
     "output_type": "stream",
     "text": [
      "Here is the list of links on the website of https://and-element.com/ - please decide which of these are relevant web links for a brochure about the company, respond with the full https URL in JSON format. Do not include Terms of Service, Privacy, email links.\n",
      "Links (some might be relative links):\n",
      "/\n",
      "/about\n",
      "/projects\n",
      "/blog\n",
      "/contact-us\n",
      "#services\n",
      "/services/website-development\n",
      "/services/ux-design\n",
      "/services/app-development\n",
      "/services/digital-marketing\n",
      "/services/ai-development\n",
      "/contact-us\n",
      "/projects/anglian-truck-tyres\n",
      "/projects/arma-karma\n",
      "/projects/le-sankey-arts\n",
      "/projects/live-you\n",
      "/projects/retreat-east\n",
      "/projects/samsung\n",
      "/projects/skipper-my-boat\n",
      "/projects/university-of-suffolk\n",
      "/projects\n",
      "/contact-us\n",
      "https://calendly.com/luke-and-element/30min\n",
      "tel:01206 259355\n",
      "https://www.instagram.com/elementsoftworks/?hl=en\n",
      "https://m.facebook.com/andelementagency\n",
      "https://www.linkedin.com/company/and-element/mycompany/\n",
      "/cdn-cgi/l/email-protection#e591808488a5848b81c880898088808b91cb868a88\n",
      "tel:01206 259355\n",
      "/\n",
      "/about\n",
      "/projects\n",
      "/services\n",
      "/contact-us\n",
      "/services/website-development\n",
      "/services/ux-design\n",
      "/services/app-development\n",
      "/services/digital-marketing\n",
      "/services/ai-development\n",
      "/terms-and-conditions\n",
      "/privacy-policy\n"
     ]
    }
   ],
   "source": [
    "print(get_links_user_prompt(ed))"
   ]
  },
  {
   "cell_type": "code",
   "execution_count": 9,
   "id": "a29aca19-ca13-471c-a4b4-5abbfa813f69",
   "metadata": {},
   "outputs": [],
   "source": [
    "def get_links(url):\n",
    "    website = Website(url)\n",
    "    response = openai.chat.completions.create(\n",
    "        model=MODEL,\n",
    "        messages=[\n",
    "            {\"role\": \"system\", \"content\": link_system_prompt},\n",
    "            {\"role\": \"user\", \"content\": get_links_user_prompt(website)}\n",
    "      ],\n",
    "        response_format={\"type\": \"json_object\"}\n",
    "    )\n",
    "    result = response.choices[0].message.content\n",
    "    return json.loads(result)"
   ]
  },
  {
   "cell_type": "code",
   "execution_count": 10,
   "id": "74a827a0-2782-4ae5-b210-4a242a8b4cc2",
   "metadata": {},
   "outputs": [
    {
     "data": {
      "text/plain": [
       "['/',\n",
       " '/about',\n",
       " '/projects',\n",
       " '/blog',\n",
       " '/contact-us',\n",
       " '#services',\n",
       " '/services/website-development',\n",
       " '/services/ux-design',\n",
       " '/services/app-development',\n",
       " '/services/digital-marketing',\n",
       " '/services/ai-development',\n",
       " '/contact-us',\n",
       " '/projects/anglian-truck-tyres',\n",
       " '/projects/arma-karma',\n",
       " '/projects/le-sankey-arts',\n",
       " '/projects/live-you',\n",
       " '/projects/retreat-east',\n",
       " '/projects/samsung',\n",
       " '/projects/skipper-my-boat',\n",
       " '/projects/university-of-suffolk',\n",
       " '/projects',\n",
       " '/contact-us',\n",
       " 'https://calendly.com/luke-and-element/30min',\n",
       " 'tel:01206 259355',\n",
       " 'https://www.instagram.com/elementsoftworks/?hl=en',\n",
       " 'https://m.facebook.com/andelementagency',\n",
       " 'https://www.linkedin.com/company/and-element/mycompany/',\n",
       " '/cdn-cgi/l/email-protection#730716121e33121d175e161f161e161d075d101c1e',\n",
       " 'tel:01206 259355',\n",
       " '/',\n",
       " '/about',\n",
       " '/projects',\n",
       " '/services',\n",
       " '/contact-us',\n",
       " '/services/website-development',\n",
       " '/services/ux-design',\n",
       " '/services/app-development',\n",
       " '/services/digital-marketing',\n",
       " '/services/ai-development',\n",
       " '/terms-and-conditions',\n",
       " '/privacy-policy']"
      ]
     },
     "execution_count": 10,
     "metadata": {},
     "output_type": "execute_result"
    }
   ],
   "source": [
    "# Anthropic has made their site harder to scrape, so I'm using HuggingFace..\n",
    "\n",
    "ed = Website(\"https://and-element.com/\")\n",
    "ed.links"
   ]
  },
  {
   "cell_type": "code",
   "execution_count": 11,
   "id": "d3d583e2-dcc4-40cc-9b28-1e8dbf402924",
   "metadata": {},
   "outputs": [
    {
     "data": {
      "text/plain": [
       "{'links': [{'type': 'about page', 'url': 'https://and-element.com/about'},\n",
       "  {'type': 'projects page', 'url': 'https://and-element.com/projects'},\n",
       "  {'type': 'services page', 'url': 'https://and-element.com/services'}]}"
      ]
     },
     "execution_count": 11,
     "metadata": {},
     "output_type": "execute_result"
    }
   ],
   "source": [
    "get_links(\"https://and-element.com/\")"
   ]
  },
  {
   "cell_type": "markdown",
   "id": "0d74128e-dfb6-47ec-9549-288b621c838c",
   "metadata": {},
   "source": [
    "## Second step: make the brochure!\n",
    "\n",
    "Assemble all the details into another prompt to GPT4-o"
   ]
  },
  {
   "cell_type": "code",
   "execution_count": 12,
   "id": "85a5b6e2-e7ef-44a9-bc7f-59ede71037b5",
   "metadata": {},
   "outputs": [],
   "source": [
    "def get_all_details(url):\n",
    "    result = \"Landing page:\\n\"\n",
    "    result += Website(url).get_contents()\n",
    "    links = get_links(url)\n",
    "    print(\"Found links:\", links)\n",
    "    for link in links[\"links\"]:\n",
    "        result += f\"\\n\\n{link['type']}\\n\"\n",
    "        result += Website(link[\"url\"]).get_contents()\n",
    "    return result"
   ]
  },
  {
   "cell_type": "code",
   "execution_count": 14,
   "id": "5099bd14-076d-4745-baf3-dac08d8e5ab2",
   "metadata": {},
   "outputs": [
    {
     "ename": "SyntaxError",
     "evalue": "incomplete input (3405127960.py, line 1)",
     "output_type": "error",
     "traceback": [
      "\u001b[0;36m  Cell \u001b[0;32mIn[14], line 1\u001b[0;36m\u001b[0m\n\u001b[0;31m    print(get_all_details(\"https://and-element.com/\")\u001b[0m\n\u001b[0m                                                     ^\u001b[0m\n\u001b[0;31mSyntaxError\u001b[0m\u001b[0;31m:\u001b[0m incomplete input\n"
     ]
    }
   ],
   "source": [
    "#print(get_all_details(\"https://and-element.com/\")"
   ]
  },
  {
   "cell_type": "code",
   "execution_count": 15,
   "id": "9b863a55-f86c-4e3f-8a79-94e24c1a8cf2",
   "metadata": {},
   "outputs": [],
   "source": [
    "system_prompt = \"You are an assistant that analyzes the contents of several relevant pages from a company website \\\n",
    "and creates a short brochure about the company for prospective customers, investors and recruits. Respond in markdown.\\\n",
    "Include details of company culture, customers and careers/jobs if you have the information.\"\n",
    "\n",
    "# Or uncomment the lines below for a more humorous brochure - this demonstrates how easy it is to incorporate 'tone':\n",
    "\n",
    "# system_prompt = \"You are an assistant that analyzes the contents of several relevant pages from a company website \\\n",
    "# and creates a short humorous, entertaining, jokey brochure about the company for prospective customers, investors and recruits. Respond in markdown.\\\n",
    "# Include details of company culture, customers and careers/jobs if you have the information.\"\n"
   ]
  },
  {
   "cell_type": "code",
   "execution_count": 16,
   "id": "6ab83d92-d36b-4ce0-8bcc-5bb4c2f8ff23",
   "metadata": {},
   "outputs": [],
   "source": [
    "def get_brochure_user_prompt(company_name, url):\n",
    "    user_prompt = f\"You are looking at a company called: {company_name}\\n\"\n",
    "    user_prompt += f\"Here are the contents of its landing page and other relevant pages; use this information to build a short brochure of the company in markdown.\\n\"\n",
    "    user_prompt += get_all_details(url)\n",
    "    user_prompt = user_prompt[:5_000] # Truncate if more than 5,000 characters\n",
    "    return user_prompt"
   ]
  },
  {
   "cell_type": "code",
   "execution_count": 17,
   "id": "cd909e0b-1312-4ce2-a553-821e795d7572",
   "metadata": {},
   "outputs": [
    {
     "name": "stdout",
     "output_type": "stream",
     "text": [
      "Found links: {'links': [{'type': 'about page', 'url': 'https://and-element.com/about'}, {'type': 'projects page', 'url': 'https://and-element.com/projects'}, {'type': 'services page', 'url': 'https://and-element.com/services'}]}\n"
     ]
    },
    {
     "data": {
      "text/plain": [
       "'You are looking at a company called: ed\\nHere are the contents of its landing page and other relevant pages; use this information to build a short brochure of the company in markdown.\\nLanding page:\\nWebpage Title:\\nWeb Development and Digital Marketing Agency • &Element\\nWebpage Contents:\\n&Element\\nAbout\\nServices\\nProjects\\nInsights\\nContact Us\\nWe are an\\nInnovative\\nWeb Development Agency in Essex\\nWe are\\xa0&Element, an award-winning creative agency specialising in web development, artificial intelligence and app development services alongside SEO, brand strategy and UX reviews.\\nDiscover &Element\\nWe’ve helped hundreds of businesses digitally optimise their company and increase profits.\\n9+\\n9+ years of experience\\nOur team is hyper-focused on helping businesses optimise their internal cloud platforms and growth their digital presence.\\n230% average increase in ROI across our suite of services.\\n235+ projects completed since we were founded in 2015.\\n45m people reached across the world through work.\\nWe are a partner you can rely on covering every aspect of your digital strategy.\\n0\\n1\\nWeb Development\\nSpecialising in React.js websites and dashboards, we build bespoke responsive websites using industry-leading technology that is proven to increase sales.\\n0\\n2\\nUX Design\\nElevate your brand experience by creating unforgettable and highly converting experiences. We also assist with overall brand strategy improvements.\\n0\\n3\\nApp Development\\nProfessional App Development for businesses of any size, building packaged solutions for iOS, Android, Linux, Windows and Mac. We also specialise in store kiosks and PWAs.\\n0\\n4\\nDigital Marketing\\nNavigate the digital landscape with precision - ranking higher online is critical to any company’s sales and success. Use our tried and tested approach to scalable marketing.\\n0\\n5\\nArtificial Intelligence\\nBuild smart applications, web scrapers, digital chatbots and assistants that can can save your team and clients time, money and effort along increasing user satisfaction.\\nWant to discuss how we can guarantee saving you time and money?\\nContact us now\\nCase Studies\\nAll\\nUX Design\\nWeb\\nApp\\nMarketing\\nAI\\nBuilding a platform to manage a nationwide fleet of tyre repairs\\nLearn More\\nBuilding and integrating a digital platform system to accommodate a global marketplace.\\nLearn More\\nBuilding and integrating a digital platform system to accommodate a global marketplace.\\nLearn More\\nDelivering a thoughtful disability enablement company a brand presence they deserve.\\nLearn More\\nBuilding and integrating a digital platform system to accommodate a global marketplace.\\nLearn More\\nDeploying an interactive customer experience to 26 different Samsung stores\\nLearn More\\nBuilding the world’s biggest peer-to-peer boat rental platform\\nLearn More\\nEnhancing Brand Consistency for Entrepreneurs Forge\\nLearn More\\nTake a look at our full portfolio -\\nview all\\nWe believe in a\\nresults\\n-driven approach across all of our services.\\nThere is so much opportunity to increase your business sales, start your journey today.\\nContact us\\n94%\\nof first impressions relate to a website’s design.\\nFirst Impression\\n84%\\nof site visitors expect a mobile site to be better or match desktop quality.\\nMobile Friendly\\n9/10\\nPoor website experience pushes 89% of consumers to competitors.\\nCustomer Retention\\n£5T\\nE-commerce sales reached over $6.5 trillion in 2023.\\nRevenue\\n1s\\nA second delay in page load time results in 7% conversions reduction.\\nConversion Rates\\n10%\\nYou chances of a click if you are not on page one of Google results.\\nGoogle Rankings\\nAdvising on industry leading platforms and technology\\nAmazon web services\\nCloudflare\\nGoogle cloud platform\\nRailway\\nShopify\\nStripe\\nUniversity of Suffolk\\nHear it from our clients:\\nsuccess\\nin their own words\\nUniversity of Suffolk\\nRuth Patron\\nCentre Manager\\n&Element created us an immersive brand and brand strategy for Entrepreneurs Forge. The team worked with us through many research rounds to delivery exactly what we wanted.\\nCochrane Associates\\nDr. Peter Cochrane OBE\\nEx-CTO of BT\\nThere is nothing like a change of career for creating a tidal wave of disruption; and after decades of leading industry, I was ready. &Element are the best I have worked with to progress this change, and therefore come with my full support and highest recommendation.\\nArma Karma\\nBen Smyth\\nCEO\\nWe worked with &Element to create an engaging pipeline of projects over 12 months for our business. Including a marketing website, 3 customer checkouts and a staff dashboard and API integrations, &Element supported us to achieve this huge feat.\\nBallen Studios\\nChristopher Luich\\nHead of Operations\\n&Element have been fundamental to developing our AI dashboard and other machine learning solutions. They have allowed us to achieve huge growth and modernisation in our company. Thank you for your hard work.\\nMinistry of Defence\\nSarah Eshelby\\nEmployability Officer\\nWe approached &Element to build us an employability portal for our tri-service military personnel looking at gaining new skills '"
      ]
     },
     "execution_count": 17,
     "metadata": {},
     "output_type": "execute_result"
    }
   ],
   "source": [
    "get_brochure_user_prompt(\"ed\", \"https://and-element.com/\")"
   ]
  },
  {
   "cell_type": "code",
   "execution_count": 18,
   "id": "e44de579-4a1a-4e6a-a510-20ea3e4b8d46",
   "metadata": {},
   "outputs": [],
   "source": [
    "def create_brochure(company_name, url):\n",
    "    response = openai.chat.completions.create(\n",
    "        model=MODEL,\n",
    "        messages=[\n",
    "            {\"role\": \"system\", \"content\": system_prompt},\n",
    "            {\"role\": \"user\", \"content\": get_brochure_user_prompt(company_name, url)}\n",
    "          ],\n",
    "    )\n",
    "    result = response.choices[0].message.content\n",
    "    display(Markdown(result))"
   ]
  },
  {
   "cell_type": "code",
   "execution_count": 19,
   "id": "e093444a-9407-42ae-924a-145730591a39",
   "metadata": {},
   "outputs": [
    {
     "name": "stdout",
     "output_type": "stream",
     "text": [
      "Found links: {'links': [{'type': 'about page', 'url': 'https://and-element.com/about'}, {'type': 'projects page', 'url': 'https://and-element.com/projects'}, {'type': 'services page', 'url': 'https://and-element.com/services'}]}\n"
     ]
    },
    {
     "data": {
      "text/markdown": [
       "```markdown\n",
       "# Welcome to &Element\n",
       "**Your Premier Web Development and Digital Marketing Agency**\n",
       "\n",
       "---\n",
       "\n",
       "## About Us\n",
       "At **&Element**, we are an award-winning creative agency located in Essex, specializing in web development, artificial intelligence, app development, and digital marketing services. Since our inception in 2015, we've dedicated ourselves to helping businesses digitally optimize their operations, leading to increased profits and enhanced digital presence.\n",
       "\n",
       "**Key Achievements:**\n",
       "- **9+ years of experience**\n",
       "- **230% average increase in ROI** across our suite of services\n",
       "- **235+ projects completed** since 2015\n",
       "- **45 million people reached** globally through our work\n",
       "\n",
       "---\n",
       "\n",
       "## Our Services\n",
       "We provide a comprehensive suite of services tailored to meet your business needs:\n",
       "\n",
       "### 1. Web Development\n",
       "- **Specialization:** React.js websites and dashboards\n",
       "- **Outcome:** Bespoke responsive websites designed to increase sales\n",
       "\n",
       "### 2. UX Design\n",
       "- **Goal:** Create unforgettable and highly converting brand experiences\n",
       "- **Benefit:** Overall brand strategy improvements\n",
       "\n",
       "### 3. App Development\n",
       "- **Scope:** Professional app development for all major platforms, including iOS, Android, Linux, Windows, and Mac\n",
       "- **Specialty:** Store kiosks and Progressive Web Apps (PWAs)\n",
       "\n",
       "### 4. Digital Marketing\n",
       "- **Focus:** Navigate the digital landscape for improved online rankings\n",
       "- **Methodology:** Scalable marketing strategies that deliver results\n",
       "\n",
       "### 5. Artificial Intelligence\n",
       "- **Services:** Smart applications, web scrapers, and digital assistants\n",
       "- **Impact:** Save time and effort while enhancing user satisfaction\n",
       "\n",
       "---\n",
       "\n",
       "## Company Culture\n",
       "At &Element, our culture thrives on innovation, collaboration, and a results-driven mindset. We believe in the power of teamwork and value the contributions of every team member. Our work environment is designed to foster creativity and a strong sense of community, ensuring that we grow together while achieving excellence for our clients.\n",
       "\n",
       "---\n",
       "\n",
       "## Our Clients Speak\n",
       "Here’s what some of our valued clients have to say about working with us:\n",
       "\n",
       "- **Ruth Patron, Centre Manager, University of Suffolk:**  \n",
       "  “&Element created us an immersive brand and brand strategy for Entrepreneurs Forge. The team worked closely with us to deliver exactly what we wanted.”\n",
       "\n",
       "- **Dr. Peter Cochrane OBE, Ex-CTO of BT:**  \n",
       "  “There is nothing like a change of career for creating a tidal wave of disruption; &Element are the best I have worked with to progress this change.”\n",
       "\n",
       "- **Christopher Luich, Head of Operations, Ballen Studios:**  \n",
       "  “&Element have been fundamental to developing our AI dashboard and other machine learning solutions that have enabled us to modernize our company.”\n",
       "\n",
       "---\n",
       "\n",
       "## Careers at &Element\n",
       "We are always on the lookout for passionate and talented individuals to join our team. If you're interested in building a career in a dynamic and innovative environment, we encourage you to check our career opportunities on our website. At &Element, you won’t just be working on projects; you will be part of a creative force that is shaping the digital landscape.\n",
       "\n",
       "---\n",
       "\n",
       "## Get in Touch\n",
       "Want to discover how we can help you save time and money while driving your business forward? **[Contact us](#)** today!\n",
       "\n",
       "---\n",
       "\n",
       "**&Element - Your partners in digital excellence.**\n",
       "```\n"
      ],
      "text/plain": [
       "<IPython.core.display.Markdown object>"
      ]
     },
     "metadata": {},
     "output_type": "display_data"
    }
   ],
   "source": [
    "create_brochure(\"ed\", \"https://and-element.com/\")"
   ]
  },
  {
   "cell_type": "markdown",
   "id": "61eaaab7-0b47-4b29-82d4-75d474ad8d18",
   "metadata": {},
   "source": [
    "## Finally - a minor improvement\n",
    "\n",
    "With a small adjustment, we can change this so that the results stream back from OpenAI,\n",
    "with the familiar typewriter animation"
   ]
  },
  {
   "cell_type": "code",
   "execution_count": null,
   "id": "51db0e49-f261-4137-aabe-92dd601f7725",
   "metadata": {},
   "outputs": [],
   "source": [
    "def stream_brochure(company_name, url):\n",
    "    stream = openai.chat.completions.create(\n",
    "        model=MODEL,\n",
    "        messages=[\n",
    "            {\"role\": \"system\", \"content\": system_prompt},\n",
    "            {\"role\": \"user\", \"content\": get_brochure_user_prompt(company_name, url)}\n",
    "          ],\n",
    "        stream=True\n",
    "    )\n",
    "    \n",
    "    response = \"\"\n",
    "    display_handle = display(Markdown(\"\"), display_id=True)\n",
    "    for chunk in stream:\n",
    "        response += chunk.choices[0].delta.content or ''\n",
    "        response = response.replace(\"```\",\"\").replace(\"markdown\", \"\")\n",
    "        update_display(Markdown(response), display_id=display_handle.display_id)"
   ]
  },
  {
   "cell_type": "code",
   "execution_count": null,
   "id": "56bf0ae3-ee9d-4a72-9cd6-edcac67ceb6d",
   "metadata": {},
   "outputs": [],
   "source": [
    "stream_brochure(\"ed\", \"https://and-element.com/\")"
   ]
  },
  {
   "cell_type": "code",
   "execution_count": null,
   "id": "fdb3f8d8-a3eb-41c8-b1aa-9f60686a653b",
   "metadata": {},
   "outputs": [],
   "source": [
    "# Try changing the system prompt to the humorous version when you make the Brochure for Hugging Face:\n",
    "\n",
    "stream_brochure(\"HuggingFace\", \"https://huggingface.co\")"
   ]
  },
  {
   "cell_type": "code",
   "execution_count": null,
   "id": "b8d3e1a1-ba54-4907-97c5-30f89a24775b",
   "metadata": {},
   "outputs": [],
   "source": []
  }
 ],
 "metadata": {
  "kernelspec": {
   "display_name": "Python 3 (ipykernel)",
   "language": "python",
   "name": "python3"
  },
  "language_info": {
   "codemirror_mode": {
    "name": "ipython",
    "version": 3
   },
   "file_extension": ".py",
   "mimetype": "text/x-python",
   "name": "python",
   "nbconvert_exporter": "python",
   "pygments_lexer": "ipython3",
   "version": "3.11.11"
  }
 },
 "nbformat": 4,
 "nbformat_minor": 5
}
