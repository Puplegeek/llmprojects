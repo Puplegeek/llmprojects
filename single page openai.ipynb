{
 "cells": [
  {
   "cell_type": "code",
   "execution_count": null,
   "id": "9956cae3-4079-48ad-b814-f54db7137d44",
   "metadata": {},
   "outputs": [],
   "source": [
    "\n",
    "import os \n",
    "import requests \n",
    "from dotenv import load_dotenv\n",
    "from bs4 import BeautifulSoup\n",
    "from IPython.display import Markdown,display\n",
    "from openai import OpenAI"
   ]
  },
  {
   "cell_type": "code",
   "execution_count": null,
   "id": "3018eb71-7f0e-4008-8f7c-cfb5d3c25dda",
   "metadata": {},
   "outputs": [],
   "source": [
    "load_dotenv(override=True)\n",
    "api_key = os.getenv('OPENAI_API_KEY')\n",
    "openai = OpenAI()"
   ]
  },
  {
   "cell_type": "code",
   "execution_count": null,
   "id": "6ef1a885-db9c-4f57-9e43-415c718d1721",
   "metadata": {},
   "outputs": [],
   "source": [
    "headers = {  \n",
    "    \"User-Agent\": \"Mozilla/5.0 (Windows NT 10.0; Win64; x64) AppleWebKit/537.36 (KHTML, like Gecko) Chrome/117.0.0.0 Safari/537.36\"  \n",
    "}  # Custom headers to mimic a real browser request  \n",
    "\n",
    "class Website_scraper:  \n",
    "    def __init__(self, url):  \n",
    "        \"\"\"Create a Website object from the given URL using BeautifulSoup\"\"\"  \n",
    "        self.url = url  \n",
    "        response = requests.get(url, headers=headers)  # Send GET request to the URL  \n",
    "        soup = BeautifulSoup(response.content, 'html.parser')  # Parse HTML content  \n",
    "        self.title = soup.title.string if soup.title else \"No title found\"  # Extract title  \n",
    "    \n",
    "        for irrelevant in soup.body([\"script\", \"style\", \"img\", \"input\"]):  \n",
    "            irrelevant.decompose()  # Remove unwanted elements  \n",
    "        \n",
    "        self.text = soup.body.get_text(separator=\"\\n\", strip=True)  # Extract clean text  "
   ]
  },
  {
   "cell_type": "code",
   "execution_count": null,
   "id": "0f98a003-fe94-4005-a20f-6651ede942d7",
   "metadata": {},
   "outputs": [],
   "source": [
    "system_prompt = \"You are an assistant that analyzes and find contacts from website \\\n",
    "and provides a short summary, ignoring text that might be navigation related. \\\n",
    "Respond in markdown.\"                                                                                                                                                                  "
   ]
  },
  {
   "cell_type": "code",
   "execution_count": null,
   "id": "723d5eee-8545-4759-9b2c-25f32895cced",
   "metadata": {},
   "outputs": [],
   "source": [
    "# function 01: \n",
    "\n",
    "def user_prompt_for(website_scraper):\n",
    "    user_prompt = f\"you are looking at a website titled {website_scraper.title}\"\n",
    "    user_prompt += \"\\n the contents of the website is as follows: \\\n",
    "please provide important contact of this website in markdown.\\\n",
    "if it includes methos for contacting, then summarize these too.\\n\\n\"\n",
    "    user_prompt += website_scraper.text\n",
    "    return user_prompt "
   ]
  },
  {
   "cell_type": "code",
   "execution_count": null,
   "id": "275380c6-0076-4835-8e1d-9281855998c1",
   "metadata": {},
   "outputs": [],
   "source": [
    "# function 02: \n",
    "def prompt_payload(website_scraper):\n",
    "    return [\n",
    "        {\"role\": \"system\", \"content\": system_prompt},\n",
    "        {\"role\": \"user\", \"content\": user_prompt_for(website_scraper)}\n",
    "    ]\n"
   ]
  },
  {
   "cell_type": "code",
   "execution_count": null,
   "id": "f81fe8b3-6aa9-4a98-bb6b-77a4fec051c0",
   "metadata": {},
   "outputs": [],
   "source": [
    "# function 03:\n",
    "def gpt_response(url):\n",
    "    website_scraper = Website_scraper(url)\n",
    "    response = openai.chat.completions.create(\n",
    "        model = \"gpt-4o-mini\",\n",
    "        messages = prompt_payload(website_scraper)\n",
    "    )\n",
    "    return response.choices[0].message.content\n"
   ]
  },
  {
   "cell_type": "code",
   "execution_count": null,
   "id": "fe424fdb-061a-41cd-9802-57233620c54d",
   "metadata": {},
   "outputs": [],
   "source": [
    "# function 04: \n",
    "def display_gpt_response(url):\n",
    "    response = gpt_response(url)\n",
    "    display(Markdown(response))\n"
   ]
  },
  {
   "cell_type": "code",
   "execution_count": null,
   "id": "21a0b7aa-14d9-402c-8d36-6186fb3bc760",
   "metadata": {},
   "outputs": [],
   "source": [
    "# call the result \n",
    "display_gpt_response(\"https://and-element.com/\")\n"
   ]
  },
  {
   "cell_type": "code",
   "execution_count": null,
   "id": "7c3e58e0-b70f-4d1a-be29-281f855cbab7",
   "metadata": {},
   "outputs": [],
   "source": []
  }
 ],
 "metadata": {
  "kernelspec": {
   "display_name": "Python 3 (ipykernel)",
   "language": "python",
   "name": "python3"
  },
  "language_info": {
   "codemirror_mode": {
    "name": "ipython",
    "version": 3
   },
   "file_extension": ".py",
   "mimetype": "text/x-python",
   "name": "python",
   "nbconvert_exporter": "python",
   "pygments_lexer": "ipython3",
   "version": "3.11.11"
  }
 },
 "nbformat": 4,
 "nbformat_minor": 5
}
